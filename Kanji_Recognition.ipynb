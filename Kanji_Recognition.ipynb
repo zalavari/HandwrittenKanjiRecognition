{
  "nbformat": 4,
  "nbformat_minor": 0,
  "metadata": {
    "colab": {
      "name": "Kanji Recognition.ipynb",
      "provenance": [],
      "collapsed_sections": [
        "AgR7jgpwwb0c",
        "NRI8Ea0OLIm8",
        "H1ZxiorkwKia",
        "kkp6g40DwpXQ",
        "7yGSHBrnKsDK",
        "a22MyVPnTzjy"
      ],
      "toc_visible": true
    },
    "kernelspec": {
      "name": "python3",
      "display_name": "Python 3"
    },
    "accelerator": "GPU"
  },
  "cells": [
    {
      "cell_type": "markdown",
      "metadata": {
        "id": "azD-8nELTvMa"
      },
      "source": [
        "# Kanji Recognition"
      ]
    },
    {
      "cell_type": "markdown",
      "metadata": {
        "id": "AgR7jgpwwb0c"
      },
      "source": [
        "##Initialization\n",
        "You have to run this part, before doing any later step\n"
      ]
    },
    {
      "cell_type": "markdown",
      "metadata": {
        "id": "NRI8Ea0OLIm8"
      },
      "source": [
        "###Define Constants"
      ]
    },
    {
      "cell_type": "code",
      "metadata": {
        "id": "468gpJvo9uCd"
      },
      "source": [
        "DatasetsPerFile = 5\n",
        "FileCount = 32 #Change this to a smaller value, for reading less data, max is 32\n",
        "NumberOfDatasets = FileCount*DatasetsPerFile\n",
        "CharacterPerDataset = 956\n",
        "CharacterToReadPerDataset = 956\n",
        "KanjiPerDataset = 881\n",
        "NumberOfSamples = NumberOfDatasets*KanjiPerDataset\n",
        "FileLocation_ETL8G='/content/drive/MyDrive/Colab Notebooks/ETL8G'"
      ],
      "execution_count": 4,
      "outputs": []
    },
    {
      "cell_type": "markdown",
      "metadata": {
        "id": "H1ZxiorkwKia"
      },
      "source": [
        "###Initialize actualKanji\n",
        "With this we can map the indexes of the images to their actual corresponding character."
      ]
    },
    {
      "cell_type": "code",
      "metadata": {
        "id": "84aUDFrgmKfA"
      },
      "source": [
        "actualKanji = [\"愛\",\"委\",\"壱\",\"雲\",\"円\",\"王\",\"何\",\"火\",\"会\",\"階\",\"革\",\"官\",\"館\",\"希\",\"記\",\"休\",\"牛\",\"共\",\"曲\",\"句\",\"係\",\"芸\",\"券\",\"険\",\"古\",\"語\",\"口\",\"港\",\"合\",\"査\",\"菜\",\"刷\",\"蚕\",\"始\",\"死\",\"資\",\"治\",\"質\",\"弱\",\"需\",\"習\",\"出\",\"暑\",\"小\",\"章\",\"状\",\"深\",\"図\",\"政\",\"製\",\"責\",\"舌\",\"選\",\"倉\",\"増\",\"属\",\"多\",\"隊\",\"短\",\"竹\",\"貯\",\"直\",\"提\",\"転\",\"土\",\"等\",\"童\",\"内\",\"熱\",\"馬\",\"畑\",\"番\",\"美\",\"評\",\"布\",\"福\",\"平\",\"弁\",\"法\",\"毎\",\"名\",\"目\",\"輸\",\"容\",\"浴\",\"略\",\"縁\",\"列\",\"話\",\"悪\",\"意\",\"印\",\"営\",\"園\",\"黄\",\"価\",\"花\",\"解\",\"貝\",\"学\",\"幹\",\"岸\",\"旗\",\"貴\",\"宮\",\"去\",\"協\",\"極\",\"区\",\"兄\",\"欠\",\"建\",\"験\",\"固\",\"誤\",\"向\",\"皇\",\"告\",\"再\",\"際\",\"察\",\"賛\",\"姉\",\"氏\",\"歯\",\"示\",\"実\",\"主\",\"収\",\"衆\",\"術\",\"書\",\"少\",\"証\",\"植\",\"申\",\"推\",\"整\",\"西\",\"赤\",\"先\",\"銭\",\"想\",\"蔵\",\"族\",\"太\",\"代\",\"団\",\"茶\",\"丁\",\"賃\",\"程\",\"点\",\"党\",\"答\",\"道\",\"南\",\"年\",\"拝\",\"八\",\"否\",\"鼻\",\"病\",\"府\",\"複\",\"陛\",\"保\",\"豊\",\"末\",\"命\",\"問\",\"勇\",\"曜\",\"来\",\"流\",\"林\",\"練\",\"圧\",\"易\",\"員\",\"栄\",\"延\",\"億\",\"加\",\"荷\",\"回\",\"外\",\"楽\",\"感\",\"眼\",\"期\",\"起\",\"急\",\"居\",\"境\",\"玉\",\"苦\",\"型\",\"決\",\"憲\",\"元\",\"己\",\"護\",\"后\",\"耕\",\"国\",\"最\",\"在\",\"殺\",\"酸\",\"子\",\"私\",\"事\",\"耳\",\"舎\",\"取\",\"周\",\"週\",\"述\",\"諸\",\"承\",\"象\",\"織\",\"真\",\"水\",\"星\",\"誠\",\"切\",\"千\",\"前\",\"早\",\"造\",\"続\",\"打\",\"台\",\"断\",\"着\",\"帳\",\"追\",\"敵\",\"伝\",\"冬\",\"統\",\"銅\",\"難\",\"念\",\"敗\",\"発\",\"悲\",\"必\",\"秒\",\"父\",\"仏\",\"米\",\"歩\",\"暴\",\"万\",\"明\",\"門\",\"友\",\"様\",\"落\",\"留\",\"臨\",\"連\",\"安\",\"異\",\"因\",\"永\",\"演\",\"屋\",\"可\",\"課\",\"快\",\"害\",\"額\",\"慣\",\"岩\",\"機\",\"技\",\"救\",\"挙\",\"強\",\"勤\",\"具\",\"形\",\"潔\",\"検\",\"原\",\"庫\",\"交\",\"孝\",\"考\",\"穀\",\"妻\",\"材\",\"雑\",\"残\",\"市\",\"糸\",\"似\",\"自\",\"写\",\"守\",\"宗\",\"集\",\"春\",\"助\",\"招\",\"賞\",\"職\",\"神\",\"数\",\"晴\",\"青\",\"接\",\"宣\",\"善\",\"争\",\"側\",\"卒\",\"体\",\"大\",\"男\",\"中\",\"張\",\"通\",\"的\",\"田\",\"刀\",\"討\",\"得\",\"二\",\"燃\",\"配\",\"判\",\"比\",\"筆\",\"品\",\"負\",\"物\",\"別\",\"補\",\"望\",\"満\",\"盟\",\"夜\",\"有\",\"洋\",\"利\",\"旅\",\"輪\",\"路\",\"暗\",\"移\",\"引\",\"泳\",\"遠\",\"恩\",\"夏\",\"貨\",\"改\",\"各\",\"活\",\"歓\",\"顔\",\"帰\",\"疑\",\"求\",\"許\",\"教\",\"均\",\"空\",\"敬\",\"結\",\"権\",\"厳\",\"戸\",\"候\",\"工(漢字)\",\"航\",\"黒\",\"才\",\"罪\",\"三\",\"仕\",\"師\",\"紙\",\"児\",\"辞\",\"社\",\"手\",\"就\",\"住\",\"準\",\"女\",\"昭\",\"上\",\"色\",\"臣\",\"世\",\"正\",\"静\",\"折\",\"専\",\"然\",\"相\",\"則\",\"存\",\"対\",\"第\",\"談\",\"忠\",\"朝\",\"低\",\"適\",\"電\",\"島\",\"頭\",\"徳\",\"弐\",\"納\",\"倍\",\"半\",\"皮\",\"百\",\"貧\",\"武\",\"分\",\"変\",\"墓\",\"貿\",\"味\",\"迷\",\"野\",\"由\",\"用\",\"理\",\"両\",\"類\",\"労\",\"案\",\"胃\",\"飲\",\"英\",\"塩\",\"温\",\"家\",\"過\",\"械\",\"拡\",\"株\",\"漢\",\"願\",\"気\",\"義\",\"球\",\"漁\",\"橋\",\"禁\",\"君\",\"景\",\"血\",\"犬\",\"減\",\"故\",\"光\",\"幸\",\"行\",\"今\",\"採\",\"財\",\"参\",\"使\",\"志\",\"至\",\"字\",\"式\",\"者\",\"種\",\"州\",\"十\",\"純\",\"序\",\"消\",\"乗\",\"食\",\"親\",\"是\",\"清\",\"税\",\"設\",\"川\",\"全\",\"総\",\"息\",\"孫\",\"帯\",\"題\",\"知\",\"昼\",\"町\",\"停\",\"鉄\",\"徒\",\"投\",\"働\",\"特\",\"肉\",\"能\",\"買\",\"反\",\"肥\",\"俵\",\"不\",\"部\",\"奮\",\"編\",\"母\",\"防\",\"未\",\"鳴\",\"役\",\"遊\",\"葉\",\"里\",\"料\",\"令\",\"老\",\"以\",\"遺\",\"院\",\"衛\",\"央\",\"音\",\"科\",\"我\",\"海\",\"格\",\"寒\",\"管\",\"喜\",\"汽\",\"議\",\"究\",\"魚\",\"興\",\"近\",\"訓\",\"系\",\"月\",\"研\",\"現\",\"湖\",\"公\",\"広\",\"講\",\"根\",\"済\",\"坂\",\"山\",\"司\",\"思\",\"視\",\"寺\",\"識\",\"謝\",\"酒\",\"修\",\"従\",\"順\",\"除\",\"焼\",\"場\",\"信\",\"身\",\"制\",\"生\",\"席\",\"節\",\"戦\",\"祖\",\"草\",\"測\",\"尊\",\"待\",\"達\",\"地\",\"柱\",\"腸\",\"定\",\"典\",\"登\",\"東\",\"動\",\"毒\",\"日\",\"農\",\"売\",\"板\",\"費\",\"標\",\"付\",\"風\",\"粉\",\"辺\",\"包\",\"北\",\"脈\",\"綿\",\"約\",\"夕\",\"要\",\"陸\",\"良\",\"例\",\"六\",\"位\",\"医\",\"右\",\"液\",\"往\",\"下\",\"果\",\"画\",\"界\",\"確\",\"刊\",\"観\",\"器\",\"季\",\"客\",\"級\",\"京\",\"鏡\",\"金\",\"群\",\"経\",\"件\",\"絹\",\"言\",\"五\",\"功\",\"康\",\"鉱\",\"混\",\"災\",\"作\",\"散\",\"史\",\"指\",\"詞\",\"持\",\"七\",\"車\",\"首\",\"拾\",\"重\",\"処\",\"勝\",\"照\",\"常\",\"心\",\"進\",\"勢\",\"精\",\"石\",\"説\",\"浅\",\"素\",\"走\",\"足\",\"損\",\"態\",\"谷\",\"池\",\"注\",\"調\",\"底\",\"天\",\"都\",\"湯\",\"同\",\"独\",\"入\",\"波\",\"博\",\"版\",\"非\",\"氷\",\"夫\",\"復\",\"文\",\"返\",\"報\",\"牧\",\"民\",\"面\",\"薬\",\"予\",\"陽\",\"律\",\"量\",\"冷\",\"録\",\"依\",\"育\",\"雨\",\"益\",\"応\",\"化\",\"歌\",\"芽\",\"絵\",\"覚\",\"勧\",\"間\",\"基\",\"紀\",\"逆\",\"給\",\"供\",\"業\",\"銀\",\"軍\",\"計\",\"健\",\"県\",\"限\",\"午\",\"効\",\"校\",\"高\",\"左\",\"祭\",\"昨\",\"産\",\"四\",\"支\",\"詩\",\"時\",\"失\",\"借\",\"受\",\"秋\",\"宿\",\"初\",\"商\",\"省\",\"情\",\"新\",\"人\",\"性\",\"聖\",\"積\",\"雪\",\"線\",\"組\",\"送\",\"速\",\"村\",\"貸\",\"単\",\"置\",\"虫\",\"長\",\"庭\",\"展\",\"努\",\"燈\",\"堂\",\"読\",\"任\",\"派\",\"白\",\"犯\",\"飛\",\"票\",\"婦\",\"幅\",\"聞\",\"便\",\"放\",\"本\",\"務\",\"毛\",\"訳\",\"余\",\"養\",\"率\",\"領\",\"礼\",\"論\",\"囲\",\"一\",\"運\",\"駅\",\"横\",\"仮\",\"河\",\"賀\",\"開\",\"角\",\"完\",\"関\",\"寄\",\"規\",\"久\",\"旧\",\"競\",\"局\",\"九\",\"郡\",\"軽\",\"兼\",\"見\",\"個\",\"後\",\"厚\",\"構\",\"号\",\"差\",\"細\",\"策\",\"算\",\"士\",\"止\",\"試\",\"次\",\"室\",\"釈\",\"授\",\"終\",\"祝\",\"所\",\"唱\",\"称\",\"条\",\"森\",\"仁\",\"成\",\"声\",\"績\",\"絶\",\"船\",\"創\",\"像\",\"俗\",\"他\",\"退\",\"炭\",\"築\",\"著\",\"鳥\",\"弟\",\"店\",\"度\",\"当\",\"導\",\"届\",\"認\",\"破\",\"麦\",\"飯\",\"備\",\"表\",\"富\",\"服\",\"兵\",\"勉\",\"方\",\"妹\",\"無\",\"木\",\"油\",\"預\",\"欲\",\"立\",\"力\",\"歴\",\"和\"]"
      ],
      "execution_count": 5,
      "outputs": []
    },
    {
      "cell_type": "markdown",
      "metadata": {
        "id": "kkp6g40DwpXQ"
      },
      "source": [
        "## Read data"
      ]
    },
    {
      "cell_type": "code",
      "metadata": {
        "id": "d5ra-x_8Krej"
      },
      "source": [
        "from PIL import Image\n",
        "import numpy as np\n",
        "import struct"
      ],
      "execution_count": 3,
      "outputs": []
    },
    {
      "cell_type": "code",
      "metadata": {
        "id": "qJagRcRaTGc0"
      },
      "source": [
        "kanji = np.zeros([KanjiPerDataset, NumberOfDatasets, 127, 128], dtype=np.uint8)\n",
        "for fileNumber in range(FileCount):\n",
        "    filename = '{}/ETL8G_{:02d}'.format(FileLocation_ETL8G, fileNumber+1)\n",
        "    with open(filename, 'rb') as f:\n",
        "        for datasetInFile in range(DatasetsPerFile):\n",
        "            char = 0\n",
        "            for j in range(CharacterToReadPerDataset):\n",
        "                #Each record is 8199 bytes long\n",
        "                s = f.read(8199)\n",
        "                #A record consists of various metadata and the image itself \n",
        "                r = struct.unpack('>2H8sI4B4H2B30x8128s11x', s)\n",
        "                #If the JIS X 0208 code first byte is 0x24 then it is a hiragana, so we skip those characters\n",
        "                if r[1] // 0x100 != 0x24:\n",
        "                    image = Image.frombytes('F', (128, 127), r[14], 'bit', 4).convert('L')\n",
        "                    kanji[char, fileNumber * DatasetsPerFile + datasetInFile] = np.array(image)\n",
        "                    char += 1\n",
        "                    #plt.imshow(image, cmap=plt.cm.binary)\n",
        "                    #plt.show() \n",
        "            for j in range(CharacterPerDataset-CharacterToReadPerDataset):\n",
        "                #Each record is 8199 bytes long\n",
        "                s = f.read(8199)"
      ],
      "execution_count": 4,
      "outputs": []
    },
    {
      "cell_type": "code",
      "metadata": {
        "id": "b9yakbggKhC7"
      },
      "source": [
        "#we can save and load the result, so later we do not have to repeat this step\n",
        "np.savez_compressed(\"kanji_all.npz\", kanji)\n",
        "#kanji=np.load(\"kanji.npz\")['arr_0']"
      ],
      "execution_count": 5,
      "outputs": []
    },
    {
      "cell_type": "markdown",
      "metadata": {
        "id": "a22MyVPnTzjy"
      },
      "source": [
        "##Prepare Data"
      ]
    },
    {
      "cell_type": "code",
      "metadata": {
        "id": "wddtfRNKl0Up"
      },
      "source": [
        "#reshape the input, so we can sequentially index each image\n",
        "kanjiSequential = kanji.reshape([-1, 127, 128])\n",
        "\n",
        "#Each pixel is greyscale encoded with 4 bit integer. We convert them to have floats between 0 and 1.\n",
        "#Since this step eats up lots of memory I put the original code in comment, and scale them up to use the full range of uint8-s instead.\n",
        "#The result after resizing the images is similar enough, so it should work\n",
        "#We might still want to convert the 0-255 range to 0-1, before feeding the network \n",
        "#kanjiSequential = kanjiSequential.astype(np.float32)\n",
        "#kanjiSequential = kanjiSequential/15 #15 is the max luminance\n",
        "kanjiSequential = kanjiSequential * 0x10\n"
      ],
      "execution_count": 6,
      "outputs": []
    },
    {
      "cell_type": "code",
      "metadata": {
        "id": "aCuJzMVIi_QS"
      },
      "source": [
        "#resize images\n",
        "import skimage.transform\n",
        "\n",
        "rows = 48\n",
        "cols = 48\n",
        "train_images = np.zeros([KanjiPerDataset * NumberOfDatasets, rows, cols], dtype=np.uint8)\n",
        "for i in range(KanjiPerDataset * NumberOfDatasets):\n",
        "    train_images[i] = skimage.transform.resize(kanjiSequential[i], (rows, cols), preserve_range=True)"
      ],
      "execution_count": 7,
      "outputs": []
    },
    {
      "cell_type": "code",
      "metadata": {
        "id": "9mna3-zclvSZ"
      },
      "source": [
        "#Convert to float here\n",
        "train_images = train_images.astype('float32')\n",
        "train_images /= 255"
      ],
      "execution_count": 8,
      "outputs": []
    },
    {
      "cell_type": "code",
      "metadata": {
        "id": "YMneIYipi82Y"
      },
      "source": [
        "#generate labels\n",
        "#Each character is identified with an index\n",
        "#Then we can map this number to the corresponding character with the actualKanji array\n",
        "arr = np.arange(KanjiPerDataset)\n",
        "train_labels = np.repeat(arr, NumberOfDatasets)"
      ],
      "execution_count": 9,
      "outputs": []
    },
    {
      "cell_type": "code",
      "metadata": {
        "id": "4AeYaoNlqWfv"
      },
      "source": [
        "#save result for later phases\n",
        "np.savez_compressed(\"train_images_all.npz\", train_images)\n",
        "np.savez_compressed(\"train_labels_all.npz\", train_labels)"
      ],
      "execution_count": 10,
      "outputs": []
    },
    {
      "cell_type": "code",
      "metadata": {
        "colab": {
          "base_uri": "https://localhost:8080/",
          "height": 701
        },
        "id": "ehj9foX7Frwe",
        "outputId": "9ffc37d9-a618-44a1-d977-348da7331044"
      },
      "source": [
        "#print some example\n",
        "import matplotlib.pyplot as plt\n",
        "import matplotlib.image as mpimg\n",
        "\n",
        "for i in range(3):\n",
        "  index = np.random.randint(NumberOfDatasets*KanjiPerDataset)\n",
        "  print(actualKanji[train_labels[index]])\n",
        "\n",
        "  fig = plt.figure(figsize=(7,7))\n",
        "  fig.patch.set_facecolor('beige')\n",
        "\n",
        "  plt.subplot(1,2,1)\n",
        "  plt.grid(False)\n",
        "  plt.imshow(kanjiSequential[index], cmap=plt.cm.binary)\n",
        "\n",
        "  plt.subplot(1,2,2)\n",
        "  plt.grid(False)\n",
        "  plt.imshow(train_images[index], cmap=plt.cm.binary)\n",
        "\n",
        "  plt.show()"
      ],
      "execution_count": 11,
      "outputs": [
        {
          "output_type": "stream",
          "text": [
            "護\n"
          ],
          "name": "stdout"
        },
        {
          "output_type": "display_data",
          "data": {
            "image/png": "[encoded data removed]",
            "text/plain": [
              "<Figure size 504x504 with 2 Axes>"
            ]
          },
          "metadata": {
            "tags": []
          }
        },
        {
          "output_type": "stream",
          "text": [
            "万\n"
          ],
          "name": "stdout"
        },
        {
          "output_type": "display_data",
          "data": {
            "image/png": "[encoded data removed]",
            "text/plain": [
              "<Figure size 504x504 with 2 Axes>"
            ]
          },
          "metadata": {
            "tags": []
          }
        },
        {
          "output_type": "stream",
          "text": [
            "己\n"
          ],
          "name": "stdout"
        },
        {
          "output_type": "display_data",
          "data": {
            "image/png": "[encoded data removed]",
            "text/plain": [
              "<Figure size 504x504 with 2 Axes>"
            ]
          },
          "metadata": {
            "tags": []
          }
        }
      ]
    },
    {
      "cell_type": "markdown",
      "metadata": {
        "id": "oXEVp-B3ojqg"
      },
      "source": [
        "#Training the network"
      ]
    },
    {
      "cell_type": "code",
      "metadata": {
        "id": "xv0081frovGn"
      },
      "source": [
        "import numpy as np\n",
        "\n",
        "from sklearn.utils import shuffle\n",
        "\n",
        "# Keras imports : model, layers, optimizers\n",
        "from tensorflow.keras.models import Sequential\n",
        "from tensorflow.keras.layers import Dense, Activation, Dropout, BatchNormalization\n",
        "from tensorflow.keras.layers import Conv2D, MaxPool2D, Flatten, MaxPooling2D\n",
        "from tensorflow.keras.regularizers import l1, l2\n",
        "from tensorflow.keras.callbacks import TensorBoard\n",
        "from tensorflow.keras.optimizers import SGD, Adam\n",
        "from keras.initializers import Constant\n",
        "from keras.callbacks import EarlyStopping\n",
        "from tensorflow.keras.utils import to_categorical\n",
        "from keras.preprocessing.image import ImageDataGenerator\n",
        "from tensorflow import keras"
      ],
      "execution_count": 109,
      "outputs": []
    },
    {
      "cell_type": "code",
      "metadata": {
        "id": "XcA0wA72QP8A"
      },
      "source": [
        "#load result from previous runs\n",
        "train_images=np.load(\"train_images_all.npz\")['arr_0']\n",
        "train_labels=np.load(\"train_labels_all.npz\")['arr_0']"
      ],
      "execution_count": 110,
      "outputs": []
    },
    {
      "cell_type": "markdown",
      "metadata": {
        "id": "v_Ahd14QkzqO"
      },
      "source": [
        "Splitting data into training, validation and test sets:"
      ]
    },
    {
      "cell_type": "code",
      "metadata": {
        "id": "VnFLQhpmkmWH"
      },
      "source": [
        "X=train_images\n",
        "Y=train_labels\n",
        "\n",
        "X, Y = shuffle(X, Y, random_state=0)\n",
        "\n",
        "X=X.reshape(X.shape[0],48,48,1)\n",
        "shape = (48,48,1)\n",
        "\n",
        "valid_split = 0.2\n",
        "test_split  = 0.1\n",
        "\n",
        "v_point = int(NumberOfSamples*(1-valid_split-test_split))\n",
        "t_point = int(NumberOfSamples*(1-test_split))\n",
        "\n",
        "X_train = X[0:v_point]\n",
        "Y_train = Y[0:v_point]\n",
        "X_valid = X[v_point:t_point]\n",
        "Y_valid = Y[v_point:t_point]\n",
        "X_test  = X[t_point:]\n",
        "Y_test  = Y[t_point:]"
      ],
      "execution_count": 111,
      "outputs": []
    },
    {
      "cell_type": "markdown",
      "metadata": {
        "id": "hdRprEMFfTLZ"
      },
      "source": [
        "Creating the model"
      ]
    },
    {
      "cell_type": "code",
      "metadata": {
        "id": "tITUT1b-VRpb"
      },
      "source": [
        "model = Sequential([\n",
        "  Conv2D(32, 5, activation='relu', padding='same', kernel_initializer='he_normal', input_shape=shape),\n",
        "  MaxPooling2D(2,2),\n",
        "  Conv2D(32, 5, activation='relu', padding='same', kernel_initializer='he_normal'),\n",
        "  MaxPooling2D(2,2),\n",
        "  Flatten(),\n",
        "  Dropout(0.5),\n",
        "  Dense(1024, activation='relu', kernel_initializer='he_normal'),\n",
        "  Dense(KanjiPerDataset, activation=\"softmax\")\n",
        "])"
      ],
      "execution_count": 112,
      "outputs": []
    },
    {
      "cell_type": "code",
      "metadata": {
        "colab": {
          "base_uri": "https://localhost:8080/"
        },
        "id": "MhVKaURGoY3U",
        "outputId": "c04ad33e-524d-45a2-a06a-ed8a907d5267"
      },
      "source": [
        "model.summary()"
      ],
      "execution_count": 113,
      "outputs": [
        {
          "output_type": "stream",
          "text": [
            "Model: \"sequential_7\"\n",
            "_________________________________________________________________\n",
            "Layer (type)                 Output Shape              Param #   \n",
            "=================================================================\n",
            "conv2d_15 (Conv2D)           (None, 48, 48, 32)        832       \n",
            "_________________________________________________________________\n",
            "max_pooling2d_14 (MaxPooling (None, 24, 24, 32)        0         \n",
            "_________________________________________________________________\n",
            "conv2d_16 (Conv2D)           (None, 24, 24, 32)        25632     \n",
            "_________________________________________________________________\n",
            "max_pooling2d_15 (MaxPooling (None, 12, 12, 32)        0         \n",
            "_________________________________________________________________\n",
            "flatten_7 (Flatten)          (None, 4608)              0         \n",
            "_________________________________________________________________\n",
            "dropout_7 (Dropout)          (None, 4608)              0         \n",
            "_________________________________________________________________\n",
            "dense_14 (Dense)             (None, 1024)              4719616   \n",
            "_________________________________________________________________\n",
            "dense_15 (Dense)             (None, 881)               903025    \n",
            "=================================================================\n",
            "Total params: 5,649,105\n",
            "Trainable params: 5,649,105\n",
            "Non-trainable params: 0\n",
            "_________________________________________________________________\n"
          ],
          "name": "stdout"
        }
      ]
    },
    {
      "cell_type": "code",
      "metadata": {
        "id": "fH2ChQGmoeAG"
      },
      "source": [
        "#With sparse_categorical_crossentropy we do not have to call to_categorical on the Y\n",
        "model.compile(loss=\"sparse_categorical_crossentropy\", optimizer='adam', metrics=['accuracy'])"
      ],
      "execution_count": 114,
      "outputs": []
    },
    {
      "cell_type": "code",
      "metadata": {
        "id": "ulY3-Fh2pGR3"
      },
      "source": [
        "es = keras.callbacks.EarlyStopping(patience=5,verbose=1,restore_best_weights=True)\n",
        "rlrop = keras.callbacks.ReduceLROnPlateau(factor=0.5,patience=3,verbose=1)"
      ],
      "execution_count": 115,
      "outputs": []
    },
    {
      "cell_type": "code",
      "metadata": {
        "id": "4vLHByXpwuG4"
      },
      "source": [
        "train_datagen = ImageDataGenerator(rotation_range=5, shear_range=0.1, zoom_range=0.1)\n",
        "valid_datagen = ImageDataGenerator()\n",
        "\n",
        "train_generator = train_datagen.flow(X_train, Y_train, batch_size=128)\n",
        "validation_generator = valid_datagen.flow(X_valid, Y_valid, batch_size=128)"
      ],
      "execution_count": 116,
      "outputs": []
    },
    {
      "cell_type": "markdown",
      "metadata": {
        "id": "UXLGqtH0fik7"
      },
      "source": [
        "Train the model"
      ]
    },
    {
      "cell_type": "code",
      "metadata": {
        "colab": {
          "base_uri": "https://localhost:8080/"
        },
        "id": "rw_ulkLbw_l8",
        "outputId": "a35812c2-d5ae-4d3c-baf2-cae9e4d4737b"
      },
      "source": [
        "model.fit_generator(train_generator,\n",
        "                    epochs = 50,                    \n",
        "                    steps_per_epoch=int(X_train.shape[0]/128)+1,\n",
        "                    validation_data=validation_generator,\n",
        "                    validation_steps=int(X_valid.shape[0]/128)+1,\n",
        "                    callbacks = [es,rlrop])\n"
      ],
      "execution_count": 117,
      "outputs": [
        {
          "output_type": "stream",
          "text": [
            "/usr/local/lib/python3.7/dist-packages/tensorflow/python/keras/engine/training.py:1844: UserWarning: `Model.fit_generator` is deprecated and will be removed in a future version. Please use `Model.fit`, which supports generators.\n",
            "  warnings.warn('`Model.fit_generator` is deprecated and '\n"
          ],
          "name": "stderr"
        },
        {
          "output_type": "stream",
          "text": [
            "Epoch 1/50\n",
            "771/771 [==============================] - 33s 42ms/step - loss: 4.3070 - accuracy: 0.2580 - val_loss: 0.4871 - val_accuracy: 0.8704\n",
            "Epoch 2/50\n",
            "771/771 [==============================] - 32s 42ms/step - loss: 0.5571 - accuracy: 0.8491 - val_loss: 0.2799 - val_accuracy: 0.9221\n",
            "Epoch 3/50\n",
            "771/771 [==============================] - 32s 42ms/step - loss: 0.3041 - accuracy: 0.9114 - val_loss: 0.2194 - val_accuracy: 0.9382\n",
            "Epoch 4/50\n",
            "771/771 [==============================] - 32s 42ms/step - loss: 0.2147 - accuracy: 0.9351 - val_loss: 0.1947 - val_accuracy: 0.9484\n",
            "Epoch 5/50\n",
            "771/771 [==============================] - 32s 42ms/step - loss: 0.1629 - accuracy: 0.9495 - val_loss: 0.1657 - val_accuracy: 0.9546\n",
            "Epoch 6/50\n",
            "771/771 [==============================] - 32s 42ms/step - loss: 0.1373 - accuracy: 0.9581 - val_loss: 0.1512 - val_accuracy: 0.9562\n",
            "Epoch 7/50\n",
            "771/771 [==============================] - 32s 42ms/step - loss: 0.1257 - accuracy: 0.9608 - val_loss: 0.1534 - val_accuracy: 0.9589\n",
            "Epoch 8/50\n",
            "771/771 [==============================] - 32s 42ms/step - loss: 0.1054 - accuracy: 0.9670 - val_loss: 0.1486 - val_accuracy: 0.9618\n",
            "Epoch 9/50\n",
            "771/771 [==============================] - 32s 42ms/step - loss: 0.0987 - accuracy: 0.9697 - val_loss: 0.1312 - val_accuracy: 0.9666\n",
            "Epoch 10/50\n",
            "771/771 [==============================] - 32s 42ms/step - loss: 0.0840 - accuracy: 0.9743 - val_loss: 0.1346 - val_accuracy: 0.9645\n",
            "Epoch 11/50\n",
            "771/771 [==============================] - 32s 42ms/step - loss: 0.0825 - accuracy: 0.9741 - val_loss: 0.1256 - val_accuracy: 0.9687\n",
            "Epoch 12/50\n",
            "771/771 [==============================] - 32s 42ms/step - loss: 0.0745 - accuracy: 0.9764 - val_loss: 0.1373 - val_accuracy: 0.9661\n",
            "Epoch 13/50\n",
            "771/771 [==============================] - 32s 42ms/step - loss: 0.0743 - accuracy: 0.9774 - val_loss: 0.1174 - val_accuracy: 0.9711\n",
            "Epoch 14/50\n",
            "771/771 [==============================] - 32s 42ms/step - loss: 0.0648 - accuracy: 0.9799 - val_loss: 0.1248 - val_accuracy: 0.9705\n",
            "Epoch 15/50\n",
            "771/771 [==============================] - 32s 42ms/step - loss: 0.0580 - accuracy: 0.9824 - val_loss: 0.1148 - val_accuracy: 0.9727\n",
            "Epoch 16/50\n",
            "771/771 [==============================] - 32s 42ms/step - loss: 0.0528 - accuracy: 0.9837 - val_loss: 0.1206 - val_accuracy: 0.9716\n",
            "Epoch 17/50\n",
            "771/771 [==============================] - 32s 42ms/step - loss: 0.0574 - accuracy: 0.9826 - val_loss: 0.1053 - val_accuracy: 0.9752\n",
            "Epoch 18/50\n",
            "771/771 [==============================] - 32s 42ms/step - loss: 0.0509 - accuracy: 0.9846 - val_loss: 0.1176 - val_accuracy: 0.9718\n",
            "Epoch 19/50\n",
            "771/771 [==============================] - 32s 42ms/step - loss: 0.0527 - accuracy: 0.9836 - val_loss: 0.1044 - val_accuracy: 0.9755\n",
            "Epoch 20/50\n",
            "771/771 [==============================] - 32s 42ms/step - loss: 0.0463 - accuracy: 0.9857 - val_loss: 0.1081 - val_accuracy: 0.9744\n",
            "Epoch 21/50\n",
            "771/771 [==============================] - 32s 42ms/step - loss: 0.0456 - accuracy: 0.9860 - val_loss: 0.1013 - val_accuracy: 0.9765\n",
            "Epoch 22/50\n",
            "771/771 [==============================] - 32s 42ms/step - loss: 0.0481 - accuracy: 0.9853 - val_loss: 0.0975 - val_accuracy: 0.9779\n",
            "Epoch 23/50\n",
            "771/771 [==============================] - 32s 42ms/step - loss: 0.0415 - accuracy: 0.9874 - val_loss: 0.1169 - val_accuracy: 0.9736\n",
            "Epoch 24/50\n",
            "771/771 [==============================] - 32s 42ms/step - loss: 0.0432 - accuracy: 0.9866 - val_loss: 0.0965 - val_accuracy: 0.9778\n",
            "Epoch 25/50\n",
            "771/771 [==============================] - 32s 42ms/step - loss: 0.0385 - accuracy: 0.9884 - val_loss: 0.1034 - val_accuracy: 0.9766\n",
            "Epoch 26/50\n",
            "771/771 [==============================] - 32s 42ms/step - loss: 0.0398 - accuracy: 0.9875 - val_loss: 0.1056 - val_accuracy: 0.9767\n",
            "Epoch 27/50\n",
            "771/771 [==============================] - 32s 42ms/step - loss: 0.0395 - accuracy: 0.9881 - val_loss: 0.0916 - val_accuracy: 0.9790\n",
            "Epoch 28/50\n",
            "771/771 [==============================] - 33s 42ms/step - loss: 0.0353 - accuracy: 0.9887 - val_loss: 0.1024 - val_accuracy: 0.9761\n",
            "Epoch 29/50\n",
            "771/771 [==============================] - 32s 42ms/step - loss: 0.0363 - accuracy: 0.9894 - val_loss: 0.0968 - val_accuracy: 0.9786\n",
            "Epoch 30/50\n",
            "771/771 [==============================] - 32s 42ms/step - loss: 0.0333 - accuracy: 0.9900 - val_loss: 0.1008 - val_accuracy: 0.9780\n",
            "\n",
            "Epoch 00030: ReduceLROnPlateau reducing learning rate to 0.0005000000237487257.\n",
            "Epoch 31/50\n",
            "771/771 [==============================] - 33s 42ms/step - loss: 0.0199 - accuracy: 0.9934 - val_loss: 0.0814 - val_accuracy: 0.9837\n",
            "Epoch 32/50\n",
            "771/771 [==============================] - 32s 42ms/step - loss: 0.0158 - accuracy: 0.9950 - val_loss: 0.0821 - val_accuracy: 0.9846\n",
            "Epoch 33/50\n",
            "771/771 [==============================] - 32s 42ms/step - loss: 0.0137 - accuracy: 0.9957 - val_loss: 0.0840 - val_accuracy: 0.9826\n",
            "Epoch 34/50\n",
            "771/771 [==============================] - 33s 42ms/step - loss: 0.0142 - accuracy: 0.9956 - val_loss: 0.0814 - val_accuracy: 0.9845\n",
            "\n",
            "Epoch 00034: ReduceLROnPlateau reducing learning rate to 0.0002500000118743628.\n",
            "Epoch 35/50\n",
            "771/771 [==============================] - 32s 42ms/step - loss: 0.0122 - accuracy: 0.9962 - val_loss: 0.0780 - val_accuracy: 0.9851\n",
            "Epoch 36/50\n",
            "771/771 [==============================] - 33s 43ms/step - loss: 0.0086 - accuracy: 0.9974 - val_loss: 0.0810 - val_accuracy: 0.9851\n",
            "Epoch 37/50\n",
            "771/771 [==============================] - 33s 43ms/step - loss: 0.0075 - accuracy: 0.9976 - val_loss: 0.0757 - val_accuracy: 0.9862\n",
            "Epoch 38/50\n",
            "771/771 [==============================] - 33s 43ms/step - loss: 0.0091 - accuracy: 0.9973 - val_loss: 0.0763 - val_accuracy: 0.9859\n",
            "Epoch 39/50\n",
            "771/771 [==============================] - 33s 43ms/step - loss: 0.0083 - accuracy: 0.9974 - val_loss: 0.0758 - val_accuracy: 0.9868\n",
            "Epoch 40/50\n",
            "771/771 [==============================] - 34s 44ms/step - loss: 0.0067 - accuracy: 0.9978 - val_loss: 0.0816 - val_accuracy: 0.9858\n",
            "\n",
            "Epoch 00040: ReduceLROnPlateau reducing learning rate to 0.0001250000059371814.\n",
            "Epoch 41/50\n",
            "771/771 [==============================] - 34s 44ms/step - loss: 0.0074 - accuracy: 0.9979 - val_loss: 0.0740 - val_accuracy: 0.9871\n",
            "Epoch 42/50\n",
            "771/771 [==============================] - 34s 44ms/step - loss: 0.0050 - accuracy: 0.9983 - val_loss: 0.0725 - val_accuracy: 0.9879\n",
            "Epoch 43/50\n",
            "771/771 [==============================] - 33s 43ms/step - loss: 0.0053 - accuracy: 0.9985 - val_loss: 0.0707 - val_accuracy: 0.9877\n",
            "Epoch 44/50\n",
            "771/771 [==============================] - 33s 43ms/step - loss: 0.0055 - accuracy: 0.9983 - val_loss: 0.0719 - val_accuracy: 0.9875\n",
            "Epoch 45/50\n",
            "771/771 [==============================] - 33s 43ms/step - loss: 0.0043 - accuracy: 0.9987 - val_loss: 0.0739 - val_accuracy: 0.9872\n",
            "Epoch 46/50\n",
            "771/771 [==============================] - 33s 43ms/step - loss: 0.0047 - accuracy: 0.9985 - val_loss: 0.0746 - val_accuracy: 0.9872\n",
            "\n",
            "Epoch 00046: ReduceLROnPlateau reducing learning rate to 6.25000029685907e-05.\n",
            "Epoch 47/50\n",
            "771/771 [==============================] - 34s 44ms/step - loss: 0.0043 - accuracy: 0.9985 - val_loss: 0.0714 - val_accuracy: 0.9873\n",
            "Epoch 48/50\n",
            "771/771 [==============================] - 34s 43ms/step - loss: 0.0040 - accuracy: 0.9987 - val_loss: 0.0686 - val_accuracy: 0.9881\n",
            "Epoch 49/50\n",
            "771/771 [==============================] - 34s 44ms/step - loss: 0.0038 - accuracy: 0.9988 - val_loss: 0.0706 - val_accuracy: 0.9880\n",
            "Epoch 50/50\n",
            "771/771 [==============================] - 35s 45ms/step - loss: 0.0044 - accuracy: 0.9986 - val_loss: 0.0702 - val_accuracy: 0.9881\n"
          ],
          "name": "stdout"
        },
        {
          "output_type": "execute_result",
          "data": {
            "text/plain": [
              "<tensorflow.python.keras.callbacks.History at 0x7f8e076704d0>"
            ]
          },
          "metadata": {
            "tags": []
          },
          "execution_count": 117
        }
      ]
    },
    {
      "cell_type": "code",
      "metadata": {
        "id": "lwXfwnRxizMI"
      },
      "source": [
        "#save the model\n",
        "model.save(\"kanji.h5\")"
      ],
      "execution_count": 124,
      "outputs": []
    },
    {
      "cell_type": "markdown",
      "metadata": {
        "id": "T78jDZT3ZycI"
      },
      "source": [
        "##Evaluate the result"
      ]
    },
    {
      "cell_type": "code",
      "metadata": {
        "colab": {
          "base_uri": "https://localhost:8080/"
        },
        "id": "J5ImqX3pyMCp",
        "outputId": "98d4e4f4-f043-4c49-86b6-c8a1bf749146"
      },
      "source": [
        "test_loss, test_acc = model.evaluate(X_test, Y_test)\n",
        "print(\"Test Accuracy: \", test_acc)"
      ],
      "execution_count": 118,
      "outputs": [
        {
          "output_type": "stream",
          "text": [
            "441/441 [==============================] - 2s 4ms/step - loss: 0.0535 - accuracy: 0.9904\n",
            "Test Accuracy:  0.9903518557548523\n"
          ],
          "name": "stdout"
        }
      ]
    },
    {
      "cell_type": "code",
      "metadata": {
        "id": "5-siaaONTMrh"
      },
      "source": [
        "preds = model.predict(X_test)\n",
        "preds = np.argmax(preds,1)"
      ],
      "execution_count": 120,
      "outputs": []
    },
    {
      "cell_type": "code",
      "metadata": {
        "id": "im6-3P67S063"
      },
      "source": [
        "#Not very useful\n",
        "from sklearn.metrics import confusion_matrix\n",
        "import seaborn as sns\n",
        "\n",
        "conf = confusion_matrix(Y_test, preds)\n",
        "plt.figure(figsize=(10,10))\n",
        "sns.heatmap(conf, vmax=2)"
      ],
      "execution_count": null,
      "outputs": []
    },
    {
      "cell_type": "markdown",
      "metadata": {
        "id": "xEjCsj3cq-Xw"
      },
      "source": [
        "###Checking the misclassified elements\n",
        "One can make the observation, that the mispredicted elements usually look very similar to the original ground truth, even with a printable font. So I am happy with this result."
      ]
    },
    {
      "cell_type": "code",
      "metadata": {
        "id": "9pg2GuvtV5TC"
      },
      "source": [
        "X_test_wrongpreds = X_test[Y_test != preds]\n",
        "Y_test_wrongpreds = Y_test[Y_test != preds]\n",
        "preds_wrongpreds = preds[Y_test != preds]"
      ],
      "execution_count": 122,
      "outputs": []
    },
    {
      "cell_type": "code",
      "metadata": {
        "colab": {
          "base_uri": "https://localhost:8080/"
        },
        "id": "aYibPfB2W74z",
        "outputId": "07f90d30-87ae-4a2f-e6fd-554b059f68da"
      },
      "source": [
        "for i in range(X_test_wrongpreds.shape[0]):\n",
        "  print(\"Ground - Predicted: \" + actualKanji[Y_test_wrongpreds[i]] + \" - \" + actualKanji[preds_wrongpreds[i]])\n",
        "  #plt.figure()\n",
        "  #plt.imshow(X_test_wrongpreds[i].reshape(48,48), cmap=plt.cm.binary)"
      ],
      "execution_count": 123,
      "outputs": [
        {
          "output_type": "stream",
          "text": [
            "Ground - Predicted: 給 - 絵\n",
            "Ground - Predicted: 線 - 綿\n",
            "Ground - Predicted: 厚 - 原\n",
            "Ground - Predicted: 紀 - 犯\n",
            "Ground - Predicted: 走 - 起\n",
            "Ground - Predicted: 末 - 未\n",
            "Ground - Predicted: 群 - 館\n",
            "Ground - Predicted: 首 - 前\n",
            "Ground - Predicted: 貸 - 賃\n",
            "Ground - Predicted: 貧 - 食\n",
            "Ground - Predicted: 日 - 目\n",
            "Ground - Predicted: 容 - 各\n",
            "Ground - Predicted: 適 - 連\n",
            "Ground - Predicted: 菜 - 素\n",
            "Ground - Predicted: 思 - 恩\n",
            "Ground - Predicted: 相 - 和\n",
            "Ground - Predicted: 運 - 週\n",
            "Ground - Predicted: 末 - 未\n",
            "Ground - Predicted: 空 - 三\n",
            "Ground - Predicted: 六 - 天\n",
            "Ground - Predicted: 舌 - 七\n",
            "Ground - Predicted: 玉 - 王\n",
            "Ground - Predicted: 衛 - 数\n",
            "Ground - Predicted: 女 - 上\n",
            "Ground - Predicted: 曲 - 由\n",
            "Ground - Predicted: 夏 - 受\n",
            "Ground - Predicted: 完 - 定\n",
            "Ground - Predicted: 員 - 疑\n",
            "Ground - Predicted: 虫 - 申\n",
            "Ground - Predicted: 旧 - 回\n",
            "Ground - Predicted: 景 - 需\n",
            "Ground - Predicted: 希 - 前\n",
            "Ground - Predicted: 税 - 我\n",
            "Ground - Predicted: 空 - 室\n",
            "Ground - Predicted: 働 - 留\n",
            "Ground - Predicted: 積 - 績\n",
            "Ground - Predicted: 買 - 員\n",
            "Ground - Predicted: 過 - 週\n",
            "Ground - Predicted: 草 - 単\n",
            "Ground - Predicted: 武 - 成\n",
            "Ground - Predicted: 必 - 文\n",
            "Ground - Predicted: 意 - 志\n",
            "Ground - Predicted: 党 - 覚\n",
            "Ground - Predicted: 画 - 雨\n",
            "Ground - Predicted: 貴 - 当\n",
            "Ground - Predicted: 牛 - 午\n",
            "Ground - Predicted: 官 - 宮\n",
            "Ground - Predicted: 囲 - 団\n",
            "Ground - Predicted: 究 - 完\n",
            "Ground - Predicted: 県 - 界\n",
            "Ground - Predicted: 塩 - 授\n",
            "Ground - Predicted: 制 - 刷\n",
            "Ground - Predicted: 殺 - 従\n",
            "Ground - Predicted: 設 - 認\n",
            "Ground - Predicted: 楽 - 乗\n",
            "Ground - Predicted: 章 - 景\n",
            "Ground - Predicted: 主 - 王\n",
            "Ground - Predicted: 賛 - 教\n",
            "Ground - Predicted: 葉 - 菜\n",
            "Ground - Predicted: 料 - 科\n",
            "Ground - Predicted: 葉 - 乗\n",
            "Ground - Predicted: 員 - 気\n",
            "Ground - Predicted: 北 - 比\n",
            "Ground - Predicted: 在 - 左\n",
            "Ground - Predicted: 海 - 活\n",
            "Ground - Predicted: 設 - 談\n",
            "Ground - Predicted: 冬 - 久\n",
            "Ground - Predicted: 女 - 立\n",
            "Ground - Predicted: 客 - 察\n",
            "Ground - Predicted: 欠 - 久\n",
            "Ground - Predicted: 詩 - 評\n",
            "Ground - Predicted: 息 - 路\n",
            "Ground - Predicted: 定 - 完\n",
            "Ground - Predicted: 兄 - 九\n",
            "Ground - Predicted: 見 - 果\n",
            "Ground - Predicted: 具 - 八\n",
            "Ground - Predicted: 現 - 損\n",
            "Ground - Predicted: 治 - 必\n",
            "Ground - Predicted: 和 - 紀\n",
            "Ground - Predicted: 健 - 使\n",
            "Ground - Predicted: 動 - 勤\n",
            "Ground - Predicted: 無 - 衆\n",
            "Ground - Predicted: 不 - 下\n",
            "Ground - Predicted: 雪 - 酒\n",
            "Ground - Predicted: 元 - 交\n",
            "Ground - Predicted: 五 - 正\n",
            "Ground - Predicted: 車 - 東\n",
            "Ground - Predicted: 責 - 黄\n",
            "Ground - Predicted: 内 - 円\n",
            "Ground - Predicted: 属 - 島\n",
            "Ground - Predicted: 道 - 追\n",
            "Ground - Predicted: 信 - 仁\n",
            "Ground - Predicted: 末 - 未\n",
            "Ground - Predicted: 間 - 問\n",
            "Ground - Predicted: 万 - 方\n",
            "Ground - Predicted: 印 - 引\n",
            "Ground - Predicted: 車 - 申\n",
            "Ground - Predicted: 令 - 合\n",
            "Ground - Predicted: 土 - 士\n",
            "Ground - Predicted: 薬 - 葉\n",
            "Ground - Predicted: 得 - 絹\n",
            "Ground - Predicted: 接 - 授\n",
            "Ground - Predicted: 輪 - 輸\n",
            "Ground - Predicted: 賃 - 貸\n",
            "Ground - Predicted: 経 - 往\n",
            "Ground - Predicted: 周 - 同\n",
            "Ground - Predicted: 投 - 故\n",
            "Ground - Predicted: 秒 - 多\n",
            "Ground - Predicted: 度 - 底\n",
            "Ground - Predicted: 党 - 覚\n",
            "Ground - Predicted: 由 - 出\n",
            "Ground - Predicted: 星 - 易\n",
            "Ground - Predicted: 費 - 東\n",
            "Ground - Predicted: 客 - 寄\n",
            "Ground - Predicted: 料 - 科\n",
            "Ground - Predicted: 具 - 貝\n",
            "Ground - Predicted: 住 - 仕\n",
            "Ground - Predicted: 材 - 械\n",
            "Ground - Predicted: 姉 - 師\n",
            "Ground - Predicted: 売 - 壱\n",
            "Ground - Predicted: 木 - 不\n",
            "Ground - Predicted: 識 - 誠\n",
            "Ground - Predicted: 水 - 太\n",
            "Ground - Predicted: 申 - 中\n",
            "Ground - Predicted: 備 - 徳\n",
            "Ground - Predicted: 合 - 命\n",
            "Ground - Predicted: 島 - 婦\n",
            "Ground - Predicted: 権 - 推\n",
            "Ground - Predicted: 国 - 固\n",
            "Ground - Predicted: 紀 - 祝\n",
            "Ground - Predicted: 念 - 息\n",
            "Ground - Predicted: 年 - 平\n",
            "Ground - Predicted: 通 - 適\n",
            "Ground - Predicted: 築 - 策\n",
            "Ground - Predicted: 聞 - 間\n",
            "Ground - Predicted: 案 - 察\n"
          ],
          "name": "stdout"
        }
      ]
    }
  ]
}