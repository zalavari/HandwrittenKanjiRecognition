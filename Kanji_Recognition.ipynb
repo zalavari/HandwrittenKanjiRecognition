{
  "nbformat": 4,
  "nbformat_minor": 0,
  "metadata": {
    "colab": {
      "name": "Kanji Recognition.ipynb",
      "provenance": [],
      "collapsed_sections": [
        "H1ZxiorkwKia",
        "qUXUTSZ7LE3i",
        "fWx8Vu6X5N8K",
        "xEjCsj3cq-Xw"
      ],
      "toc_visible": true
    },
    "kernelspec": {
      "name": "python3",
      "display_name": "Python 3"
    },
    "accelerator": "GPU"
  },
  "cells": [
    {
      "cell_type": "markdown",
      "metadata": {
        "id": "azD-8nELTvMa"
      },
      "source": [
        "# Kanji Recognition"
      ]
    },
    {
      "cell_type": "markdown",
      "metadata": {
        "id": "AgR7jgpwwb0c"
      },
      "source": [
        "##Initialization\n",
        "You have to run this part, before doing any later step\n"
      ]
    },
    {
      "cell_type": "markdown",
      "metadata": {
        "id": "NRI8Ea0OLIm8"
      },
      "source": [
        "###Define Constants"
      ]
    },
    {
      "cell_type": "code",
      "metadata": {
        "id": "468gpJvo9uCd"
      },
      "source": [
        "DatasetsPerFile = 5\n",
        "FileCount = 32 #Change this to a smaller value, for reading less data, max is 32\n",
        "NumberOfDatasets = FileCount*DatasetsPerFile\n",
        "CharacterPerDataset = 956\n",
        "CharacterToReadPerDataset = 956\n",
        "KanjiPerDataset = 881\n",
        "NumberOfSamples = NumberOfDatasets*KanjiPerDataset\n",
        "Height = 48\n",
        "Width = 48\n",
        "FileLocation_ETL8G='/content/drive/MyDrive/Colab Notebooks/ETL8G'"
      ],
      "execution_count": 2,
      "outputs": []
    },
    {
      "cell_type": "markdown",
      "metadata": {
        "id": "H1ZxiorkwKia"
      },
      "source": [
        "###Initialize actualKanji\n",
        "With this we can map the indexes of the images to their actual corresponding character."
      ]
    },
    {
      "cell_type": "code",
      "metadata": {
        "id": "84aUDFrgmKfA"
      },
      "source": [
        "actualKanji = [\"愛\",\"委\",\"壱\",\"雲\",\"円\",\"王\",\"何\",\"火\",\"会\",\"階\",\"革\",\"官\",\"館\",\"希\",\"記\",\"休\",\"牛\",\"共\",\"曲\",\"句\",\"係\",\"芸\",\"券\",\"険\",\"古\",\"語\",\"口\",\"港\",\"合\",\"査\",\"菜\",\"刷\",\"蚕\",\"始\",\"死\",\"資\",\"治\",\"質\",\"弱\",\"需\",\"習\",\"出\",\"暑\",\"小\",\"章\",\"状\",\"深\",\"図\",\"政\",\"製\",\"責\",\"舌\",\"選\",\"倉\",\"増\",\"属\",\"多\",\"隊\",\"短\",\"竹\",\"貯\",\"直\",\"提\",\"転\",\"土\",\"等\",\"童\",\"内\",\"熱\",\"馬\",\"畑\",\"番\",\"美\",\"評\",\"布\",\"福\",\"平\",\"弁\",\"法\",\"毎\",\"名\",\"目\",\"輸\",\"容\",\"浴\",\"略\",\"縁\",\"列\",\"話\",\"悪\",\"意\",\"印\",\"営\",\"園\",\"黄\",\"価\",\"花\",\"解\",\"貝\",\"学\",\"幹\",\"岸\",\"旗\",\"貴\",\"宮\",\"去\",\"協\",\"極\",\"区\",\"兄\",\"欠\",\"建\",\"験\",\"固\",\"誤\",\"向\",\"皇\",\"告\",\"再\",\"際\",\"察\",\"賛\",\"姉\",\"氏\",\"歯\",\"示\",\"実\",\"主\",\"収\",\"衆\",\"術\",\"書\",\"少\",\"証\",\"植\",\"申\",\"推\",\"整\",\"西\",\"赤\",\"先\",\"銭\",\"想\",\"蔵\",\"族\",\"太\",\"代\",\"団\",\"茶\",\"丁\",\"賃\",\"程\",\"点\",\"党\",\"答\",\"道\",\"南\",\"年\",\"拝\",\"八\",\"否\",\"鼻\",\"病\",\"府\",\"複\",\"陛\",\"保\",\"豊\",\"末\",\"命\",\"問\",\"勇\",\"曜\",\"来\",\"流\",\"林\",\"練\",\"圧\",\"易\",\"員\",\"栄\",\"延\",\"億\",\"加\",\"荷\",\"回\",\"外\",\"楽\",\"感\",\"眼\",\"期\",\"起\",\"急\",\"居\",\"境\",\"玉\",\"苦\",\"型\",\"決\",\"憲\",\"元\",\"己\",\"護\",\"后\",\"耕\",\"国\",\"最\",\"在\",\"殺\",\"酸\",\"子\",\"私\",\"事\",\"耳\",\"舎\",\"取\",\"周\",\"週\",\"述\",\"諸\",\"承\",\"象\",\"織\",\"真\",\"水\",\"星\",\"誠\",\"切\",\"千\",\"前\",\"早\",\"造\",\"続\",\"打\",\"台\",\"断\",\"着\",\"帳\",\"追\",\"敵\",\"伝\",\"冬\",\"統\",\"銅\",\"難\",\"念\",\"敗\",\"発\",\"悲\",\"必\",\"秒\",\"父\",\"仏\",\"米\",\"歩\",\"暴\",\"万\",\"明\",\"門\",\"友\",\"様\",\"落\",\"留\",\"臨\",\"連\",\"安\",\"異\",\"因\",\"永\",\"演\",\"屋\",\"可\",\"課\",\"快\",\"害\",\"額\",\"慣\",\"岩\",\"機\",\"技\",\"救\",\"挙\",\"強\",\"勤\",\"具\",\"形\",\"潔\",\"検\",\"原\",\"庫\",\"交\",\"孝\",\"考\",\"穀\",\"妻\",\"材\",\"雑\",\"残\",\"市\",\"糸\",\"似\",\"自\",\"写\",\"守\",\"宗\",\"集\",\"春\",\"助\",\"招\",\"賞\",\"職\",\"神\",\"数\",\"晴\",\"青\",\"接\",\"宣\",\"善\",\"争\",\"側\",\"卒\",\"体\",\"大\",\"男\",\"中\",\"張\",\"通\",\"的\",\"田\",\"刀\",\"討\",\"得\",\"二\",\"燃\",\"配\",\"判\",\"比\",\"筆\",\"品\",\"負\",\"物\",\"別\",\"補\",\"望\",\"満\",\"盟\",\"夜\",\"有\",\"洋\",\"利\",\"旅\",\"輪\",\"路\",\"暗\",\"移\",\"引\",\"泳\",\"遠\",\"恩\",\"夏\",\"貨\",\"改\",\"各\",\"活\",\"歓\",\"顔\",\"帰\",\"疑\",\"求\",\"許\",\"教\",\"均\",\"空\",\"敬\",\"結\",\"権\",\"厳\",\"戸\",\"候\",\"工(漢字)\",\"航\",\"黒\",\"才\",\"罪\",\"三\",\"仕\",\"師\",\"紙\",\"児\",\"辞\",\"社\",\"手\",\"就\",\"住\",\"準\",\"女\",\"昭\",\"上\",\"色\",\"臣\",\"世\",\"正\",\"静\",\"折\",\"専\",\"然\",\"相\",\"則\",\"存\",\"対\",\"第\",\"談\",\"忠\",\"朝\",\"低\",\"適\",\"電\",\"島\",\"頭\",\"徳\",\"弐\",\"納\",\"倍\",\"半\",\"皮\",\"百\",\"貧\",\"武\",\"分\",\"変\",\"墓\",\"貿\",\"味\",\"迷\",\"野\",\"由\",\"用\",\"理\",\"両\",\"類\",\"労\",\"案\",\"胃\",\"飲\",\"英\",\"塩\",\"温\",\"家\",\"過\",\"械\",\"拡\",\"株\",\"漢\",\"願\",\"気\",\"義\",\"球\",\"漁\",\"橋\",\"禁\",\"君\",\"景\",\"血\",\"犬\",\"減\",\"故\",\"光\",\"幸\",\"行\",\"今\",\"採\",\"財\",\"参\",\"使\",\"志\",\"至\",\"字\",\"式\",\"者\",\"種\",\"州\",\"十\",\"純\",\"序\",\"消\",\"乗\",\"食\",\"親\",\"是\",\"清\",\"税\",\"設\",\"川\",\"全\",\"総\",\"息\",\"孫\",\"帯\",\"題\",\"知\",\"昼\",\"町\",\"停\",\"鉄\",\"徒\",\"投\",\"働\",\"特\",\"肉\",\"能\",\"買\",\"反\",\"肥\",\"俵\",\"不\",\"部\",\"奮\",\"編\",\"母\",\"防\",\"未\",\"鳴\",\"役\",\"遊\",\"葉\",\"里\",\"料\",\"令\",\"老\",\"以\",\"遺\",\"院\",\"衛\",\"央\",\"音\",\"科\",\"我\",\"海\",\"格\",\"寒\",\"管\",\"喜\",\"汽\",\"議\",\"究\",\"魚\",\"興\",\"近\",\"訓\",\"系\",\"月\",\"研\",\"現\",\"湖\",\"公\",\"広\",\"講\",\"根\",\"済\",\"坂\",\"山\",\"司\",\"思\",\"視\",\"寺\",\"識\",\"謝\",\"酒\",\"修\",\"従\",\"順\",\"除\",\"焼\",\"場\",\"信\",\"身\",\"制\",\"生\",\"席\",\"節\",\"戦\",\"祖\",\"草\",\"測\",\"尊\",\"待\",\"達\",\"地\",\"柱\",\"腸\",\"定\",\"典\",\"登\",\"東\",\"動\",\"毒\",\"日\",\"農\",\"売\",\"板\",\"費\",\"標\",\"付\",\"風\",\"粉\",\"辺\",\"包\",\"北\",\"脈\",\"綿\",\"約\",\"夕\",\"要\",\"陸\",\"良\",\"例\",\"六\",\"位\",\"医\",\"右\",\"液\",\"往\",\"下\",\"果\",\"画\",\"界\",\"確\",\"刊\",\"観\",\"器\",\"季\",\"客\",\"級\",\"京\",\"鏡\",\"金\",\"群\",\"経\",\"件\",\"絹\",\"言\",\"五\",\"功\",\"康\",\"鉱\",\"混\",\"災\",\"作\",\"散\",\"史\",\"指\",\"詞\",\"持\",\"七\",\"車\",\"首\",\"拾\",\"重\",\"処\",\"勝\",\"照\",\"常\",\"心\",\"進\",\"勢\",\"精\",\"石\",\"説\",\"浅\",\"素\",\"走\",\"足\",\"損\",\"態\",\"谷\",\"池\",\"注\",\"調\",\"底\",\"天\",\"都\",\"湯\",\"同\",\"独\",\"入\",\"波\",\"博\",\"版\",\"非\",\"氷\",\"夫\",\"復\",\"文\",\"返\",\"報\",\"牧\",\"民\",\"面\",\"薬\",\"予\",\"陽\",\"律\",\"量\",\"冷\",\"録\",\"依\",\"育\",\"雨\",\"益\",\"応\",\"化\",\"歌\",\"芽\",\"絵\",\"覚\",\"勧\",\"間\",\"基\",\"紀\",\"逆\",\"給\",\"供\",\"業\",\"銀\",\"軍\",\"計\",\"健\",\"県\",\"限\",\"午\",\"効\",\"校\",\"高\",\"左\",\"祭\",\"昨\",\"産\",\"四\",\"支\",\"詩\",\"時\",\"失\",\"借\",\"受\",\"秋\",\"宿\",\"初\",\"商\",\"省\",\"情\",\"新\",\"人\",\"性\",\"聖\",\"積\",\"雪\",\"線\",\"組\",\"送\",\"速\",\"村\",\"貸\",\"単\",\"置\",\"虫\",\"長\",\"庭\",\"展\",\"努\",\"燈\",\"堂\",\"読\",\"任\",\"派\",\"白\",\"犯\",\"飛\",\"票\",\"婦\",\"幅\",\"聞\",\"便\",\"放\",\"本\",\"務\",\"毛\",\"訳\",\"余\",\"養\",\"率\",\"領\",\"礼\",\"論\",\"囲\",\"一\",\"運\",\"駅\",\"横\",\"仮\",\"河\",\"賀\",\"開\",\"角\",\"完\",\"関\",\"寄\",\"規\",\"久\",\"旧\",\"競\",\"局\",\"九\",\"郡\",\"軽\",\"兼\",\"見\",\"個\",\"後\",\"厚\",\"構\",\"号\",\"差\",\"細\",\"策\",\"算\",\"士\",\"止\",\"試\",\"次\",\"室\",\"釈\",\"授\",\"終\",\"祝\",\"所\",\"唱\",\"称\",\"条\",\"森\",\"仁\",\"成\",\"声\",\"績\",\"絶\",\"船\",\"創\",\"像\",\"俗\",\"他\",\"退\",\"炭\",\"築\",\"著\",\"鳥\",\"弟\",\"店\",\"度\",\"当\",\"導\",\"届\",\"認\",\"破\",\"麦\",\"飯\",\"備\",\"表\",\"富\",\"服\",\"兵\",\"勉\",\"方\",\"妹\",\"無\",\"木\",\"油\",\"預\",\"欲\",\"立\",\"力\",\"歴\",\"和\"]"
      ],
      "execution_count": 3,
      "outputs": []
    },
    {
      "cell_type": "markdown",
      "metadata": {
        "id": "qUXUTSZ7LE3i"
      },
      "source": [
        "###Imports"
      ]
    },
    {
      "cell_type": "code",
      "metadata": {
        "id": "lIoBfRm0LD1h"
      },
      "source": [
        "#General, image processing, plotting\n",
        "import numpy as np\n",
        "\n",
        "import matplotlib.pyplot as plt\n",
        "import matplotlib.image as mpimg\n",
        "import seaborn as sns\n",
        "\n",
        "import skimage.transform\n",
        "from PIL import Image\n",
        "\n",
        "# Keras imports : model, layers etc.\n",
        "from tensorflow.keras.models import Sequential\n",
        "from tensorflow.keras.layers import Dense, Activation, Dropout, BatchNormalization\n",
        "from tensorflow.keras.layers import Conv2D, MaxPool2D, Flatten, MaxPooling2D\n",
        "from tensorflow.keras.regularizers import l1, l2\n",
        "from tensorflow.keras.callbacks import TensorBoard\n",
        "from tensorflow.keras.optimizers import SGD, Adam\n",
        "from keras.preprocessing.image import ImageDataGenerator\n",
        "from tensorflow import keras\n",
        "\n",
        "# Sklearn imports : metrics, shuffle etc.\n",
        "from sklearn.utils import shuffle\n",
        "from sklearn.metrics import confusion_matrix\n",
        "\n"
      ],
      "execution_count": 4,
      "outputs": []
    },
    {
      "cell_type": "markdown",
      "metadata": {
        "id": "kkp6g40DwpXQ"
      },
      "source": [
        "## Parse raw data\n",
        "In this section we read the raw datafiles, parse and save them as numpy arrays."
      ]
    },
    {
      "cell_type": "code",
      "metadata": {
        "id": "qJagRcRaTGc0"
      },
      "source": [
        "import struct\n",
        "\n",
        "kanji = np.zeros([KanjiPerDataset, NumberOfDatasets, 127, 128], dtype=np.uint8)\n",
        "for fileNumber in range(FileCount):\n",
        "    filename = '{}/ETL8G_{:02d}'.format(FileLocation_ETL8G, fileNumber+1)\n",
        "    with open(filename, 'rb') as f:\n",
        "        for datasetInFile in range(DatasetsPerFile):\n",
        "            char = 0\n",
        "            for j in range(CharacterToReadPerDataset):\n",
        "                #Each record is 8199 bytes long\n",
        "                s = f.read(8199)\n",
        "                #A record consists of various metadata and the image itself \n",
        "                r = struct.unpack('>2H8sI4B4H2B30x8128s11x', s)\n",
        "                #If the JIS X 0208 code first byte is 0x24 then it is a hiragana, so we skip those characters\n",
        "                if r[1] // 0x100 != 0x24:\n",
        "                    image = Image.frombytes('F', (128, 127), r[14], 'bit', 4).convert('L')\n",
        "                    kanji[char, fileNumber * DatasetsPerFile + datasetInFile] = np.array(image)\n",
        "                    char += 1\n",
        "                    #plt.imshow(image, cmap=plt.cm.binary)\n",
        "                    #plt.show() \n",
        "            for j in range(CharacterPerDataset-CharacterToReadPerDataset):\n",
        "                #Each record is 8199 bytes long\n",
        "                s = f.read(8199)"
      ],
      "execution_count": 4,
      "outputs": []
    },
    {
      "cell_type": "code",
      "metadata": {
        "id": "b9yakbggKhC7"
      },
      "source": [
        "#we can save and load the result, so later we do not have to repeat this step every time\n",
        "np.savez_compressed(\"kanji_all.npz\", kanji)"
      ],
      "execution_count": 5,
      "outputs": []
    },
    {
      "cell_type": "markdown",
      "metadata": {
        "id": "a22MyVPnTzjy"
      },
      "source": [
        "##Data Perparation\n",
        "In this section we create the input of the network, and generate labels to each image."
      ]
    },
    {
      "cell_type": "code",
      "metadata": {
        "id": "RLr06KHvSNYk"
      },
      "source": [
        "#load the previously exported data\n",
        "#kanji=np.load(\"kanji.npz\")['arr_0']"
      ],
      "execution_count": 6,
      "outputs": []
    },
    {
      "cell_type": "code",
      "metadata": {
        "id": "wddtfRNKl0Up"
      },
      "source": [
        "#reshape the input, so we can sequentially index each image\n",
        "kanjiSequential = kanji.reshape([-1, 127, 128])\n",
        "\n",
        "#Each pixel is greyscale encoded with 4 bit integer. Scale them up to use the full range of uint8-s\n",
        "#We might still want to convert the 0-255 range to 0-1, before feeding the network, \n",
        "#but right here it would consume tremendous amount of memory\n",
        "kanjiSequential = kanjiSequential * 0x10\n"
      ],
      "execution_count": 7,
      "outputs": []
    },
    {
      "cell_type": "code",
      "metadata": {
        "id": "aCuJzMVIi_QS"
      },
      "source": [
        "#resize images\n",
        "train_images = np.zeros([KanjiPerDataset * NumberOfDatasets, Height, Width], dtype=np.uint8)\n",
        "for i in range(KanjiPerDataset * NumberOfDatasets):\n",
        "    train_images[i] = skimage.transform.resize(kanjiSequential[i], (Height, Width), preserve_range=True)"
      ],
      "execution_count": 8,
      "outputs": []
    },
    {
      "cell_type": "code",
      "metadata": {
        "id": "9mna3-zclvSZ"
      },
      "source": [
        "#Convert to float here (after resizing)\n",
        "train_images = train_images.astype('float32')\n",
        "train_images /= 255"
      ],
      "execution_count": 9,
      "outputs": []
    },
    {
      "cell_type": "code",
      "metadata": {
        "id": "YMneIYipi82Y"
      },
      "source": [
        "#generate labels\n",
        "#Each character is identified with an index\n",
        "#Then we can map this number to the corresponding character with the actualKanji array\n",
        "arr = np.arange(KanjiPerDataset)\n",
        "train_labels = np.repeat(arr, NumberOfDatasets)"
      ],
      "execution_count": 10,
      "outputs": []
    },
    {
      "cell_type": "code",
      "metadata": {
        "id": "4AeYaoNlqWfv"
      },
      "source": [
        "#save result for later phases\n",
        "np.savez_compressed(\"train_images_all.npz\", train_images)\n",
        "np.savez_compressed(\"train_labels_all.npz\", train_labels)"
      ],
      "execution_count": 11,
      "outputs": []
    },
    {
      "cell_type": "code",
      "metadata": {
        "colab": {
          "base_uri": "https://localhost:8080/",
          "height": 701
        },
        "id": "ehj9foX7Frwe",
        "outputId": "89227397-743c-4e4b-b060-a4aa59c7838d"
      },
      "source": [
        "#print some examples\n",
        "\n",
        "for i in range(3):\n",
        "  index = np.random.randint(NumberOfDatasets*KanjiPerDataset)\n",
        "  print(actualKanji[train_labels[index]])\n",
        "\n",
        "  fig = plt.figure(figsize=(7,7))\n",
        "  fig.patch.set_facecolor('beige')\n",
        "\n",
        "  plt.subplot(1,2,1)\n",
        "  plt.grid(False)\n",
        "  plt.imshow(kanjiSequential[index], cmap=plt.cm.binary)\n",
        "\n",
        "  plt.subplot(1,2,2)\n",
        "  plt.grid(False)\n",
        "  plt.imshow(train_images[index], cmap=plt.cm.binary)\n",
        "\n",
        "  plt.show()"
      ],
      "execution_count": 12,
      "outputs": [
        {
          "output_type": "stream",
          "text": [
            "色\n"
          ],
          "name": "stdout"
        },
        {
          "output_type": "display_data",
          "data": {
            "image/png": "[encoded data removed]",
            "text/plain": [
              "<Figure size 504x504 with 2 Axes>"
            ]
          },
          "metadata": {
            "tags": []
          }
        },
        {
          "output_type": "stream",
          "text": [
            "心\n"
          ],
          "name": "stdout"
        },
        {
          "output_type": "display_data",
          "data": {
            "image/png": "[encoded data removed]",
            "text/plain": [
              "<Figure size 504x504 with 2 Axes>"
            ]
          },
          "metadata": {
            "tags": []
          }
        },
        {
          "output_type": "stream",
          "text": [
            "孫\n"
          ],
          "name": "stdout"
        },
        {
          "output_type": "display_data",
          "data": {
            "image/png": "[encoded data removed]",
            "text/plain": [
              "<Figure size 504x504 with 2 Axes>"
            ]
          },
          "metadata": {
            "tags": []
          }
        }
      ]
    },
    {
      "cell_type": "markdown",
      "metadata": {
        "id": "oXEVp-B3ojqg"
      },
      "source": [
        "##Training the network"
      ]
    },
    {
      "cell_type": "code",
      "metadata": {
        "id": "XcA0wA72QP8A"
      },
      "source": [
        "#load result from previous runs\n",
        "train_images=np.load(\"train_images_all.npz\")['arr_0']\n",
        "train_labels=np.load(\"train_labels_all.npz\")['arr_0']"
      ],
      "execution_count": 13,
      "outputs": []
    },
    {
      "cell_type": "markdown",
      "metadata": {
        "id": "yivsJ_7BHrRY"
      },
      "source": [
        "###Data splitting\n",
        "We split the data into training, validation and test sets in ratio 7:2:1."
      ]
    },
    {
      "cell_type": "code",
      "metadata": {
        "id": "VnFLQhpmkmWH"
      },
      "source": [
        "X=train_images\n",
        "Y=train_labels\n",
        "\n",
        "X, Y = shuffle(X, Y, random_state=0)\n",
        "\n",
        "X=X.reshape(X.shape[0],Height,Width,1)\n",
        "shape = (Height,Width,1)\n",
        "\n",
        "valid_split = 0.2\n",
        "test_split  = 0.1\n",
        "\n",
        "v_point = int(NumberOfSamples*(1-valid_split-test_split))\n",
        "t_point = int(NumberOfSamples*(1-test_split))\n",
        "\n",
        "X_train = X[0:v_point]\n",
        "Y_train = Y[0:v_point]\n",
        "X_valid = X[v_point:t_point]\n",
        "Y_valid = Y[v_point:t_point]\n",
        "X_test  = X[t_point:]\n",
        "Y_test  = Y[t_point:]"
      ],
      "execution_count": 14,
      "outputs": []
    },
    {
      "cell_type": "code",
      "metadata": {
        "id": "EEti8X1SGooB"
      },
      "source": [
        "shape = (Height,Width,1)"
      ],
      "execution_count": 7,
      "outputs": []
    },
    {
      "cell_type": "markdown",
      "metadata": {
        "id": "9B9zvi5KKv5q"
      },
      "source": [
        "###Creating the model"
      ]
    },
    {
      "cell_type": "code",
      "metadata": {
        "id": "tITUT1b-VRpb"
      },
      "source": [
        "model = Sequential([\n",
        "  Conv2D(32, 5, activation='relu', padding='same', kernel_initializer='he_normal', input_shape=shape),\n",
        "  MaxPooling2D(2,2),\n",
        "  Conv2D(32, 5, activation='relu', padding='same', kernel_initializer='he_normal'),\n",
        "  MaxPooling2D(2,2),\n",
        "  Conv2D(32, 5, activation='relu', padding='same', kernel_initializer='he_normal'),\n",
        "  MaxPooling2D(2,2),\n",
        "  Flatten(),\n",
        "  Dropout(0.5),\n",
        "  Dense(512, activation='relu', kernel_initializer='he_normal'),\n",
        "  Dropout(0.5),\n",
        "  Dense(KanjiPerDataset, activation=\"softmax\")\n",
        "])"
      ],
      "execution_count": 8,
      "outputs": []
    },
    {
      "cell_type": "markdown",
      "metadata": {
        "id": "PYdFA_jTH8jI"
      },
      "source": [
        "###Inspect the model"
      ]
    },
    {
      "cell_type": "code",
      "metadata": {
        "colab": {
          "base_uri": "https://localhost:8080/"
        },
        "id": "MhVKaURGoY3U",
        "outputId": "647970fc-ec95-47f0-c4b1-0ab1af5fa6e8"
      },
      "source": [
        "model.summary()"
      ],
      "execution_count": 16,
      "outputs": [
        {
          "output_type": "stream",
          "text": [
            "Model: \"sequential\"\n",
            "_________________________________________________________________\n",
            "Layer (type)                 Output Shape              Param #   \n",
            "=================================================================\n",
            "conv2d (Conv2D)              (None, 48, 48, 32)        832       \n",
            "_________________________________________________________________\n",
            "max_pooling2d (MaxPooling2D) (None, 24, 24, 32)        0         \n",
            "_________________________________________________________________\n",
            "conv2d_1 (Conv2D)            (None, 24, 24, 32)        25632     \n",
            "_________________________________________________________________\n",
            "max_pooling2d_1 (MaxPooling2 (None, 12, 12, 32)        0         \n",
            "_________________________________________________________________\n",
            "conv2d_2 (Conv2D)            (None, 12, 12, 32)        25632     \n",
            "_________________________________________________________________\n",
            "max_pooling2d_2 (MaxPooling2 (None, 6, 6, 32)          0         \n",
            "_________________________________________________________________\n",
            "flatten (Flatten)            (None, 1152)              0         \n",
            "_________________________________________________________________\n",
            "dropout (Dropout)            (None, 1152)              0         \n",
            "_________________________________________________________________\n",
            "dense (Dense)                (None, 512)               590336    \n",
            "_________________________________________________________________\n",
            "dropout_1 (Dropout)          (None, 512)               0         \n",
            "_________________________________________________________________\n",
            "dense_1 (Dense)              (None, 881)               451953    \n",
            "=================================================================\n",
            "Total params: 1,094,385\n",
            "Trainable params: 1,094,385\n",
            "Non-trainable params: 0\n",
            "_________________________________________________________________\n"
          ],
          "name": "stdout"
        }
      ]
    },
    {
      "cell_type": "markdown",
      "metadata": {
        "id": "8zK5nKGIIE1Y"
      },
      "source": [
        "###Compile the model\n",
        "Note, that we use `sparse_categorical_crossentropy` as loss function. This is basicly the same as`categorical_crossentropy`, but we do not need to call `to_categorical` on the Y. \n",
        "\n",
        "\n"
      ]
    },
    {
      "cell_type": "code",
      "metadata": {
        "id": "fH2ChQGmoeAG"
      },
      "source": [
        "#With sparse_categorical_crossentropy we do not have to call to_categorical on the Y\n",
        "model.compile(loss=\"sparse_categorical_crossentropy\", optimizer='adam', metrics=['accuracy'])"
      ],
      "execution_count": 17,
      "outputs": []
    },
    {
      "cell_type": "markdown",
      "metadata": {
        "id": "ZRNyafQBJYLr"
      },
      "source": [
        "###Defining callback functions\n",
        "I added Early Stopping as usual. Also I come across and applied the Reduce Learning Rate On Plateu, which does exactly what its name suggest."
      ]
    },
    {
      "cell_type": "code",
      "metadata": {
        "id": "ulY3-Fh2pGR3"
      },
      "source": [
        "es = keras.callbacks.EarlyStopping(patience=5,verbose=1,restore_best_weights=True)\n",
        "rlrop = keras.callbacks.ReduceLROnPlateau(factor=0.5,patience=3,verbose=1)"
      ],
      "execution_count": 18,
      "outputs": []
    },
    {
      "cell_type": "markdown",
      "metadata": {
        "id": "lhkRZP6MKIh5"
      },
      "source": [
        "###Define generators for training and validation\n",
        "\n",
        "I add data augmentation here, by applying small rotations, shearings and zooms to the pictures. (Of course I do not use flipping, or mirroring.)"
      ]
    },
    {
      "cell_type": "code",
      "metadata": {
        "id": "4vLHByXpwuG4"
      },
      "source": [
        "train_datagen = ImageDataGenerator(rotation_range=10, shear_range=0.1, zoom_range=0.1)\n",
        "valid_datagen = ImageDataGenerator(rotation_range=5, shear_range=0.05, zoom_range=0.05)\n",
        "\n",
        "train_generator = train_datagen.flow(X_train, Y_train, batch_size=512)\n",
        "validation_generator = valid_datagen.flow(X_valid, Y_valid, batch_size=512)"
      ],
      "execution_count": 19,
      "outputs": []
    },
    {
      "cell_type": "markdown",
      "metadata": {
        "id": "UXLGqtH0fik7"
      },
      "source": [
        "###Train the model"
      ]
    },
    {
      "cell_type": "code",
      "metadata": {
        "colab": {
          "base_uri": "https://localhost:8080/"
        },
        "id": "rw_ulkLbw_l8",
        "outputId": "39394687-c5b4-4288-ddaa-26156ff33393"
      },
      "source": [
        "model.fit_generator(train_generator,\n",
        "                    epochs = 100,                    \n",
        "                    steps_per_epoch=int(X_train.shape[0]/512)+1,\n",
        "                    validation_data=validation_generator,\n",
        "                    validation_steps=int(X_valid.shape[0]/512)+1,\n",
        "                    callbacks = [es,rlrop])\n"
      ],
      "execution_count": 20,
      "outputs": [
        {
          "output_type": "stream",
          "text": [
            "/usr/local/lib/python3.7/dist-packages/tensorflow/python/keras/engine/training.py:1844: UserWarning: `Model.fit_generator` is deprecated and will be removed in a future version. Please use `Model.fit`, which supports generators.\n",
            "  warnings.warn('`Model.fit_generator` is deprecated and '\n"
          ],
          "name": "stderr"
        },
        {
          "output_type": "stream",
          "text": [
            "Epoch 1/100\n",
            "193/193 [==============================] - 68s 194ms/step - loss: 6.4772 - accuracy: 0.0126 - val_loss: 2.6932 - val_accuracy: 0.4716\n",
            "Epoch 2/100\n",
            "193/193 [==============================] - 37s 191ms/step - loss: 2.9467 - accuracy: 0.3204 - val_loss: 0.6858 - val_accuracy: 0.8477\n",
            "Epoch 3/100\n",
            "193/193 [==============================] - 37s 190ms/step - loss: 1.3970 - accuracy: 0.6234 - val_loss: 0.3682 - val_accuracy: 0.9133\n",
            "Epoch 4/100\n",
            "193/193 [==============================] - 38s 196ms/step - loss: 0.9204 - accuracy: 0.7407 - val_loss: 0.2309 - val_accuracy: 0.9412\n",
            "Epoch 5/100\n",
            "193/193 [==============================] - 38s 199ms/step - loss: 0.6872 - accuracy: 0.8015 - val_loss: 0.1815 - val_accuracy: 0.9554\n",
            "Epoch 6/100\n",
            "193/193 [==============================] - 38s 196ms/step - loss: 0.5702 - accuracy: 0.8328 - val_loss: 0.1521 - val_accuracy: 0.9608\n",
            "Epoch 7/100\n",
            "193/193 [==============================] - 38s 196ms/step - loss: 0.4873 - accuracy: 0.8555 - val_loss: 0.1255 - val_accuracy: 0.9670\n",
            "Epoch 8/100\n",
            "193/193 [==============================] - 38s 196ms/step - loss: 0.4193 - accuracy: 0.8723 - val_loss: 0.1115 - val_accuracy: 0.9714\n",
            "Epoch 9/100\n",
            "193/193 [==============================] - 38s 198ms/step - loss: 0.3801 - accuracy: 0.8861 - val_loss: 0.1014 - val_accuracy: 0.9733\n",
            "Epoch 10/100\n",
            "193/193 [==============================] - 37s 194ms/step - loss: 0.3491 - accuracy: 0.8940 - val_loss: 0.0932 - val_accuracy: 0.9753\n",
            "Epoch 11/100\n",
            "193/193 [==============================] - 37s 194ms/step - loss: 0.3221 - accuracy: 0.9022 - val_loss: 0.0885 - val_accuracy: 0.9765\n",
            "Epoch 12/100\n",
            "193/193 [==============================] - 37s 194ms/step - loss: 0.2988 - accuracy: 0.9081 - val_loss: 0.0764 - val_accuracy: 0.9801\n",
            "Epoch 13/100\n",
            "193/193 [==============================] - 37s 191ms/step - loss: 0.2781 - accuracy: 0.9128 - val_loss: 0.0746 - val_accuracy: 0.9802\n",
            "Epoch 14/100\n",
            "193/193 [==============================] - 36s 188ms/step - loss: 0.2625 - accuracy: 0.9181 - val_loss: 0.0763 - val_accuracy: 0.9797\n",
            "Epoch 15/100\n",
            "193/193 [==============================] - 36s 189ms/step - loss: 0.2461 - accuracy: 0.9239 - val_loss: 0.0658 - val_accuracy: 0.9824\n",
            "Epoch 16/100\n",
            "193/193 [==============================] - 37s 192ms/step - loss: 0.2344 - accuracy: 0.9267 - val_loss: 0.0615 - val_accuracy: 0.9840\n",
            "Epoch 17/100\n",
            "193/193 [==============================] - 37s 189ms/step - loss: 0.2205 - accuracy: 0.9311 - val_loss: 0.0596 - val_accuracy: 0.9835\n",
            "Epoch 18/100\n",
            "193/193 [==============================] - 36s 186ms/step - loss: 0.2134 - accuracy: 0.9343 - val_loss: 0.0584 - val_accuracy: 0.9833\n",
            "Epoch 19/100\n",
            "193/193 [==============================] - 37s 190ms/step - loss: 0.2059 - accuracy: 0.9352 - val_loss: 0.0578 - val_accuracy: 0.9844\n",
            "Epoch 20/100\n",
            "193/193 [==============================] - 37s 191ms/step - loss: 0.2002 - accuracy: 0.9380 - val_loss: 0.0567 - val_accuracy: 0.9840\n",
            "Epoch 21/100\n",
            "193/193 [==============================] - 37s 194ms/step - loss: 0.1954 - accuracy: 0.9382 - val_loss: 0.0582 - val_accuracy: 0.9840\n",
            "Epoch 22/100\n",
            "193/193 [==============================] - 37s 194ms/step - loss: 0.1953 - accuracy: 0.9388 - val_loss: 0.0510 - val_accuracy: 0.9865\n",
            "Epoch 23/100\n",
            "193/193 [==============================] - 37s 193ms/step - loss: 0.1784 - accuracy: 0.9445 - val_loss: 0.0492 - val_accuracy: 0.9877\n",
            "Epoch 24/100\n",
            "193/193 [==============================] - 37s 193ms/step - loss: 0.1763 - accuracy: 0.9441 - val_loss: 0.0508 - val_accuracy: 0.9856\n",
            "Epoch 25/100\n",
            "193/193 [==============================] - 37s 194ms/step - loss: 0.1764 - accuracy: 0.9449 - val_loss: 0.0511 - val_accuracy: 0.9854\n",
            "Epoch 26/100\n",
            "193/193 [==============================] - 37s 192ms/step - loss: 0.1718 - accuracy: 0.9453 - val_loss: 0.0465 - val_accuracy: 0.9868\n",
            "Epoch 27/100\n",
            "193/193 [==============================] - 37s 193ms/step - loss: 0.1653 - accuracy: 0.9483 - val_loss: 0.0461 - val_accuracy: 0.9870\n",
            "Epoch 28/100\n",
            "193/193 [==============================] - 37s 191ms/step - loss: 0.1637 - accuracy: 0.9485 - val_loss: 0.0464 - val_accuracy: 0.9873\n",
            "Epoch 29/100\n",
            "193/193 [==============================] - 36s 186ms/step - loss: 0.1514 - accuracy: 0.9507 - val_loss: 0.0435 - val_accuracy: 0.9874\n",
            "Epoch 30/100\n",
            "193/193 [==============================] - 36s 189ms/step - loss: 0.1562 - accuracy: 0.9509 - val_loss: 0.0414 - val_accuracy: 0.9883\n",
            "Epoch 31/100\n",
            "193/193 [==============================] - 36s 185ms/step - loss: 0.1494 - accuracy: 0.9519 - val_loss: 0.0422 - val_accuracy: 0.9882\n",
            "Epoch 32/100\n",
            "193/193 [==============================] - 36s 186ms/step - loss: 0.1495 - accuracy: 0.9521 - val_loss: 0.0441 - val_accuracy: 0.9874\n",
            "Epoch 33/100\n",
            "193/193 [==============================] - 36s 186ms/step - loss: 0.1468 - accuracy: 0.9527 - val_loss: 0.0417 - val_accuracy: 0.9881\n",
            "\n",
            "Epoch 00033: ReduceLROnPlateau reducing learning rate to 0.0005000000237487257.\n",
            "Epoch 34/100\n",
            "193/193 [==============================] - 36s 185ms/step - loss: 0.1287 - accuracy: 0.9580 - val_loss: 0.0350 - val_accuracy: 0.9906\n",
            "Epoch 35/100\n",
            "193/193 [==============================] - 36s 187ms/step - loss: 0.1159 - accuracy: 0.9626 - val_loss: 0.0360 - val_accuracy: 0.9894\n",
            "Epoch 36/100\n",
            "193/193 [==============================] - 36s 187ms/step - loss: 0.1100 - accuracy: 0.9647 - val_loss: 0.0342 - val_accuracy: 0.9905\n",
            "Epoch 37/100\n",
            "193/193 [==============================] - 36s 187ms/step - loss: 0.1085 - accuracy: 0.9652 - val_loss: 0.0339 - val_accuracy: 0.9906\n",
            "Epoch 38/100\n",
            "193/193 [==============================] - 36s 186ms/step - loss: 0.1042 - accuracy: 0.9653 - val_loss: 0.0348 - val_accuracy: 0.9901\n",
            "Epoch 39/100\n",
            "193/193 [==============================] - 36s 185ms/step - loss: 0.1111 - accuracy: 0.9650 - val_loss: 0.0329 - val_accuracy: 0.9908\n",
            "Epoch 40/100\n",
            "193/193 [==============================] - 36s 185ms/step - loss: 0.0999 - accuracy: 0.9666 - val_loss: 0.0333 - val_accuracy: 0.9909\n",
            "Epoch 41/100\n",
            "193/193 [==============================] - 36s 186ms/step - loss: 0.1018 - accuracy: 0.9664 - val_loss: 0.0346 - val_accuracy: 0.9903\n",
            "Epoch 42/100\n",
            "193/193 [==============================] - 36s 185ms/step - loss: 0.0980 - accuracy: 0.9675 - val_loss: 0.0322 - val_accuracy: 0.9911\n",
            "Epoch 43/100\n",
            "193/193 [==============================] - 36s 185ms/step - loss: 0.0977 - accuracy: 0.9691 - val_loss: 0.0315 - val_accuracy: 0.9905\n",
            "Epoch 44/100\n",
            "193/193 [==============================] - 36s 184ms/step - loss: 0.0942 - accuracy: 0.9687 - val_loss: 0.0343 - val_accuracy: 0.9907\n",
            "Epoch 45/100\n",
            "193/193 [==============================] - 36s 184ms/step - loss: 0.0924 - accuracy: 0.9705 - val_loss: 0.0319 - val_accuracy: 0.9911\n",
            "Epoch 46/100\n",
            "193/193 [==============================] - 36s 185ms/step - loss: 0.0920 - accuracy: 0.9695 - val_loss: 0.0327 - val_accuracy: 0.9914\n",
            "\n",
            "Epoch 00046: ReduceLROnPlateau reducing learning rate to 0.0002500000118743628.\n",
            "Epoch 47/100\n",
            "193/193 [==============================] - 36s 184ms/step - loss: 0.0809 - accuracy: 0.9743 - val_loss: 0.0306 - val_accuracy: 0.9915\n",
            "Epoch 48/100\n",
            "193/193 [==============================] - 35s 183ms/step - loss: 0.0835 - accuracy: 0.9732 - val_loss: 0.0283 - val_accuracy: 0.9927\n",
            "Epoch 49/100\n",
            "193/193 [==============================] - 35s 183ms/step - loss: 0.0849 - accuracy: 0.9723 - val_loss: 0.0280 - val_accuracy: 0.9926\n",
            "Epoch 50/100\n",
            "193/193 [==============================] - 35s 184ms/step - loss: 0.0783 - accuracy: 0.9747 - val_loss: 0.0290 - val_accuracy: 0.9927\n",
            "Epoch 51/100\n",
            "193/193 [==============================] - 36s 184ms/step - loss: 0.0777 - accuracy: 0.9748 - val_loss: 0.0296 - val_accuracy: 0.9920\n",
            "Epoch 52/100\n",
            "193/193 [==============================] - 36s 184ms/step - loss: 0.0761 - accuracy: 0.9751 - val_loss: 0.0296 - val_accuracy: 0.9919\n",
            "\n",
            "Epoch 00052: ReduceLROnPlateau reducing learning rate to 0.0001250000059371814.\n",
            "Epoch 53/100\n",
            "193/193 [==============================] - 36s 187ms/step - loss: 0.0754 - accuracy: 0.9751 - val_loss: 0.0263 - val_accuracy: 0.9933\n",
            "Epoch 54/100\n",
            "193/193 [==============================] - 37s 189ms/step - loss: 0.0727 - accuracy: 0.9767 - val_loss: 0.0283 - val_accuracy: 0.9924\n",
            "Epoch 55/100\n",
            "193/193 [==============================] - 37s 190ms/step - loss: 0.0693 - accuracy: 0.9772 - val_loss: 0.0266 - val_accuracy: 0.9931\n",
            "Epoch 56/100\n",
            "193/193 [==============================] - 36s 189ms/step - loss: 0.0710 - accuracy: 0.9767 - val_loss: 0.0286 - val_accuracy: 0.9926\n",
            "\n",
            "Epoch 00056: ReduceLROnPlateau reducing learning rate to 6.25000029685907e-05.\n",
            "Epoch 57/100\n",
            "193/193 [==============================] - 37s 192ms/step - loss: 0.0685 - accuracy: 0.9776 - val_loss: 0.0275 - val_accuracy: 0.9930\n",
            "Epoch 58/100\n",
            "193/193 [==============================] - 37s 191ms/step - loss: 0.0672 - accuracy: 0.9782 - val_loss: 0.0273 - val_accuracy: 0.9926\n",
            "Restoring model weights from the end of the best epoch.\n",
            "Epoch 00058: early stopping\n"
          ],
          "name": "stdout"
        },
        {
          "output_type": "execute_result",
          "data": {
            "text/plain": [
              "<tensorflow.python.keras.callbacks.History at 0x7f7ba04239d0>"
            ]
          },
          "metadata": {
            "tags": []
          },
          "execution_count": 20
        }
      ]
    },
    {
      "cell_type": "markdown",
      "metadata": {
        "id": "X1j1BDuhKhfq"
      },
      "source": [
        "###Save the model to file"
      ]
    },
    {
      "cell_type": "code",
      "metadata": {
        "id": "lwXfwnRxizMI"
      },
      "source": [
        "model.save(\"kanji.h5\")"
      ],
      "execution_count": 21,
      "outputs": []
    },
    {
      "cell_type": "code",
      "metadata": {
        "id": "vEX7MinSGLf0"
      },
      "source": [
        "model=keras.models.load_model(\"kanji.h5\")"
      ],
      "execution_count": 12,
      "outputs": []
    },
    {
      "cell_type": "markdown",
      "metadata": {
        "id": "T78jDZT3ZycI"
      },
      "source": [
        "##Evaluate the results"
      ]
    },
    {
      "cell_type": "markdown",
      "metadata": {
        "id": "7kSJBFRd4x8b"
      },
      "source": [
        "###On the test set"
      ]
    },
    {
      "cell_type": "code",
      "metadata": {
        "colab": {
          "base_uri": "https://localhost:8080/"
        },
        "id": "J5ImqX3pyMCp",
        "outputId": "57aba837-882e-461f-ac23-22aa35ad85f8"
      },
      "source": [
        "test_loss, test_acc = model.evaluate(X_test, Y_test)\n",
        "print(\"Test Accuracy: \", test_acc)"
      ],
      "execution_count": 22,
      "outputs": [
        {
          "output_type": "stream",
          "text": [
            "441/441 [==============================] - 2s 3ms/step - loss: 0.0215 - accuracy: 0.9946\n",
            "Test Accuracy:  0.9946084022521973\n"
          ],
          "name": "stdout"
        }
      ]
    },
    {
      "cell_type": "code",
      "metadata": {
        "id": "5-siaaONTMrh"
      },
      "source": [
        "preds = model.predict(X_test)\n",
        "preds = np.argmax(preds, 1)\n",
        "\n",
        "conf = confusion_matrix(Y_test, preds)"
      ],
      "execution_count": 23,
      "outputs": []
    },
    {
      "cell_type": "markdown",
      "metadata": {
        "id": "fWx8Vu6X5N8K"
      },
      "source": [
        "####Confusion matrix\n",
        "It is not very informative, because we have too many classes, and relatively few elements in the test set."
      ]
    },
    {
      "cell_type": "code",
      "metadata": {
        "id": "im6-3P67S063",
        "colab": {
          "base_uri": "https://localhost:8080/",
          "height": 0
        },
        "outputId": "d325b8ee-fe46-4f4c-cf49-15e20cd41ca2"
      },
      "source": [
        "plt.figure(figsize=(10,10))\n",
        "temp = sns.heatmap(conf, vmax=2,)"
      ],
      "execution_count": 24,
      "outputs": [
        {
          "output_type": "display_data",
          "data": {
            "image/png": "[encoded data removed]",
            "text/plain": [
              "<Figure size 720x720 with 2 Axes>"
            ]
          },
          "metadata": {
            "tags": [],
            "needs_background": "light"
          }
        }
      ]
    },
    {
      "cell_type": "code",
      "metadata": {
        "id": "XI-GiSVZ6gnE"
      },
      "source": [
        ""
      ],
      "execution_count": 24,
      "outputs": []
    },
    {
      "cell_type": "markdown",
      "metadata": {
        "id": "fPve7Tyz6j16"
      },
      "source": [
        "####Precision/Recall analysis"
      ]
    },
    {
      "cell_type": "code",
      "metadata": {
        "id": "x_gZ9FIysgI3"
      },
      "source": [
        "recalls = [conf[i,i]/conf[i,:].sum() for i in range(KanjiPerDataset)]\n",
        "precisions = [conf[i,i]/conf[:,i].sum() for i in range(KanjiPerDataset)]"
      ],
      "execution_count": 25,
      "outputs": []
    },
    {
      "cell_type": "code",
      "metadata": {
        "colab": {
          "base_uri": "https://localhost:8080/",
          "height": 265
        },
        "id": "pm_jgqEhx8zZ",
        "outputId": "1f1e0082-5387-4d1a-a339-f79845f0b453"
      },
      "source": [
        "temp = sns.histplot(recalls, bins=10)"
      ],
      "execution_count": 26,
      "outputs": [
        {
          "output_type": "display_data",
          "data": {
            "image/png": "[encoded data removed]",
            "text/plain": [
              "<Figure size 432x288 with 1 Axes>"
            ]
          },
          "metadata": {
            "tags": [],
            "needs_background": "light"
          }
        }
      ]
    },
    {
      "cell_type": "code",
      "metadata": {
        "colab": {
          "base_uri": "https://localhost:8080/",
          "height": 265
        },
        "id": "xEtgfP9gyXRS",
        "outputId": "5ae76a86-4e94-45f8-8190-512a610c61ec"
      },
      "source": [
        "temp = sns.histplot(precisions, bins=10)"
      ],
      "execution_count": 27,
      "outputs": [
        {
          "output_type": "display_data",
          "data": {
            "image/png": "[encoded data removed]",
            "text/plain": [
              "<Figure size 432x288 with 1 Axes>"
            ]
          },
          "metadata": {
            "tags": [],
            "needs_background": "light"
          }
        }
      ]
    },
    {
      "cell_type": "code",
      "metadata": {
        "colab": {
          "base_uri": "https://localhost:8080/"
        },
        "id": "XSI7Tfm2yjHb",
        "outputId": "5c8b1ede-8e33-4ead-8563-f11b0abc164b"
      },
      "source": [
        "recallLessThan09 = [i for i in range(KanjiPerDataset) if recalls[i]<0.9]\n",
        "precisionLessThan09 = [i for i in range(KanjiPerDataset) if precisions[i]<0.9]\n",
        "\n",
        "bothLessThan09 = [i for i in range(KanjiPerDataset) if (recalls[i]<0.9 and precisions[i]<0.9)]\n",
        "\n",
        "print(\"Recall below 0.9: \",[actualKanji[i] for i in recallLessThan09])\n",
        "print(\"Precision below 0.9: \",[actualKanji[i] for i in precisionLessThan09])"
      ],
      "execution_count": 28,
      "outputs": [
        {
          "output_type": "stream",
          "text": [
            "Recall below 0.9:  ['申', '末', '輪', '女', '葉', '思', '首']\n",
            "Precision below 0.9:  ['輸', '中', '恩', '未', '氷', '薬']\n"
          ],
          "name": "stdout"
        }
      ]
    },
    {
      "cell_type": "markdown",
      "metadata": {
        "id": "xEjCsj3cq-Xw"
      },
      "source": [
        "####Checking the misclassified elements\n",
        "One can make the observation, that the mispredicted elements usually look very similar to the original ground truth, even with a printable font. So I am happy with this result."
      ]
    },
    {
      "cell_type": "code",
      "metadata": {
        "id": "9pg2GuvtV5TC"
      },
      "source": [
        "X_test_wrongpreds = X_test[Y_test != preds]\n",
        "Y_test_wrongpreds = Y_test[Y_test != preds]\n",
        "preds_wrongpreds = preds[Y_test != preds]"
      ],
      "execution_count": 29,
      "outputs": []
    },
    {
      "cell_type": "code",
      "metadata": {
        "colab": {
          "base_uri": "https://localhost:8080/"
        },
        "id": "aYibPfB2W74z",
        "outputId": "7397355b-e2e4-4778-f5b7-7d28d9d905f8"
      },
      "source": [
        "for i in range(X_test_wrongpreds.shape[0]):\n",
        "  print(\"Ground - Predicted: \" + actualKanji[Y_test_wrongpreds[i]] + \" - \" + actualKanji[preds_wrongpreds[i]])\n",
        "  #plt.figure()\n",
        "  #plt.imshow(X_test_wrongpreds[i].reshape(48,48), cmap=plt.cm.binary)"
      ],
      "execution_count": 30,
      "outputs": [
        {
          "output_type": "stream",
          "text": [
            "Ground - Predicted: 秋 - 称\n",
            "Ground - Predicted: 末 - 未\n",
            "Ground - Predicted: 輪 - 輸\n",
            "Ground - Predicted: 放 - 設\n",
            "Ground - Predicted: 群 - 代\n",
            "Ground - Predicted: 首 - 言\n",
            "Ground - Predicted: 貸 - 貨\n",
            "Ground - Predicted: 日 - 目\n",
            "Ground - Predicted: 菜 - 薬\n",
            "Ground - Predicted: 死 - 元\n",
            "Ground - Predicted: 思 - 恩\n",
            "Ground - Predicted: 思 - 恩\n",
            "Ground - Predicted: 衛 - 戦\n",
            "Ground - Predicted: 女 - 一\n",
            "Ground - Predicted: 歓 - 飲\n",
            "Ground - Predicted: 景 - 常\n",
            "Ground - Predicted: 望 - 堂\n",
            "Ground - Predicted: 覚 - 党\n",
            "Ground - Predicted: 税 - 我\n",
            "Ground - Predicted: 六 - 太\n",
            "Ground - Predicted: 積 - 績\n",
            "Ground - Predicted: 過 - 週\n",
            "Ground - Predicted: 草 - 単\n",
            "Ground - Predicted: 意 - 考\n",
            "Ground - Predicted: 隊 - 陸\n",
            "Ground - Predicted: 画 - 雨\n",
            "Ground - Predicted: 貴 - 営\n",
            "Ground - Predicted: 貧 - 負\n",
            "Ground - Predicted: 態 - 能\n",
            "Ground - Predicted: 殺 - 級\n",
            "Ground - Predicted: 土 - 工(漢字)\n",
            "Ground - Predicted: 築 - 薬\n",
            "Ground - Predicted: 主 - 王\n",
            "Ground - Predicted: 準 - 洋\n",
            "Ground - Predicted: 葉 - 業\n",
            "Ground - Predicted: 様 - 株\n",
            "Ground - Predicted: 葉 - 乗\n",
            "Ground - Predicted: 方 - 才\n",
            "Ground - Predicted: 申 - 中\n",
            "Ground - Predicted: 在 - 左\n",
            "Ground - Predicted: 女 - 支\n",
            "Ground - Predicted: 俗 - 谷\n",
            "Ground - Predicted: 詩 - 評\n",
            "Ground - Predicted: 息 - 島\n",
            "Ground - Predicted: 祭 - 第\n",
            "Ground - Predicted: 名 - 色\n",
            "Ground - Predicted: 具 - 欠\n",
            "Ground - Predicted: 間 - 問\n",
            "Ground - Predicted: 便 - 食\n",
            "Ground - Predicted: 元 - 完\n",
            "Ground - Predicted: 車 - 市\n",
            "Ground - Predicted: 討 - 計\n",
            "Ground - Predicted: 責 - 黄\n",
            "Ground - Predicted: 規 - 現\n",
            "Ground - Predicted: 属 - 急\n",
            "Ground - Predicted: 末 - 未\n",
            "Ground - Predicted: 万 - 方\n",
            "Ground - Predicted: 車 - 専\n",
            "Ground - Predicted: 令 - 今\n",
            "Ground - Predicted: 得 - 絹\n",
            "Ground - Predicted: 乗 - 東\n",
            "Ground - Predicted: 水 - 氷\n",
            "Ground - Predicted: 由 - 申\n",
            "Ground - Predicted: 輪 - 輸\n",
            "Ground - Predicted: 王 - 玉\n",
            "Ground - Predicted: 輪 - 輸\n",
            "Ground - Predicted: 照 - 昭\n",
            "Ground - Predicted: 士 - 土\n",
            "Ground - Predicted: 星 - 宗\n",
            "Ground - Predicted: 客 - 容\n",
            "Ground - Predicted: 具 - 貝\n",
            "Ground - Predicted: 申 - 中\n",
            "Ground - Predicted: 備 - 衛\n",
            "Ground - Predicted: 合 - 会\n",
            "Ground - Predicted: 念 - 思\n",
            "Ground - Predicted: 板 - 械\n"
          ],
          "name": "stdout"
        }
      ]
    },
    {
      "cell_type": "markdown",
      "metadata": {
        "id": "uydDrVRq41Xk"
      },
      "source": [
        "###On the whole dataset\n",
        "Since the test set is small, (about 15-20 elements per class) I do the analysis for the whole dataset as well. It might be a bit of cheating, since the network was trained with the dataset, but still, it gives us a useful insight."
      ]
    },
    {
      "cell_type": "code",
      "metadata": {
        "colab": {
          "base_uri": "https://localhost:8080/"
        },
        "id": "247T6iSN7jHy",
        "outputId": "28974386-9cd8-4d2e-ca7a-39c678377550"
      },
      "source": [
        "all_loss, all_acc = model.evaluate(X, Y)\n",
        "print(\"Test Accuracy: \", all_acc)"
      ],
      "execution_count": 31,
      "outputs": [
        {
          "output_type": "stream",
          "text": [
            "4405/4405 [==============================] - 13s 3ms/step - loss: 0.0102 - accuracy: 0.9974\n",
            "Test Accuracy:  0.9974318742752075\n"
          ],
          "name": "stdout"
        }
      ]
    },
    {
      "cell_type": "code",
      "metadata": {
        "id": "SSFDWRCW7vVs"
      },
      "source": [
        "preds = model.predict(X)\n",
        "preds = np.argmax(preds, 1)\n",
        "\n",
        "conf = confusion_matrix(Y, preds)"
      ],
      "execution_count": 32,
      "outputs": []
    },
    {
      "cell_type": "markdown",
      "metadata": {
        "id": "YLIjdbFI9tPa"
      },
      "source": [
        "####Confusion matrix\n",
        "It is still not too informative."
      ]
    },
    {
      "cell_type": "code",
      "metadata": {
        "colab": {
          "base_uri": "https://localhost:8080/",
          "height": 0
        },
        "id": "VWvZ60GB00Rr",
        "outputId": "60199df9-b32c-491b-b8bb-e10440a8189b"
      },
      "source": [
        "plt.figure(figsize=(15,10))\n",
        "temp = sns.heatmap(conf, vmax=5)"
      ],
      "execution_count": 33,
      "outputs": [
        {
          "output_type": "display_data",
          "data": {
            "image/png": "[encoded data removed]",
            "text/plain": [
              "<Figure size 1080x720 with 2 Axes>"
            ]
          },
          "metadata": {
            "tags": [],
            "needs_background": "light"
          }
        }
      ]
    },
    {
      "cell_type": "markdown",
      "metadata": {
        "id": "ndM80ZctDr9A"
      },
      "source": [
        "####Precision/Recall analysis"
      ]
    },
    {
      "cell_type": "code",
      "metadata": {
        "id": "HCPTQ-8C6bnN"
      },
      "source": [
        "recalls = [conf[i,i]/conf[i,:].sum() for i in range(KanjiPerDataset)]\n",
        "precisions = [conf[i,i]/conf[:,i].sum() for i in range(KanjiPerDataset)]"
      ],
      "execution_count": 34,
      "outputs": []
    },
    {
      "cell_type": "code",
      "metadata": {
        "colab": {
          "base_uri": "https://localhost:8080/",
          "height": 265
        },
        "id": "_fPCPh3a8AvU",
        "outputId": "963fa0aa-2d53-4ed8-924a-4aeeddfa19c9"
      },
      "source": [
        "temp = sns.histplot(recalls, bins=10)"
      ],
      "execution_count": 35,
      "outputs": [
        {
          "output_type": "display_data",
          "data": {
            "image/png": "[encoded data removed]",
            "text/plain": [
              "<Figure size 432x288 with 1 Axes>"
            ]
          },
          "metadata": {
            "tags": [],
            "needs_background": "light"
          }
        }
      ]
    },
    {
      "cell_type": "code",
      "metadata": {
        "colab": {
          "base_uri": "https://localhost:8080/",
          "height": 265
        },
        "id": "bqbXxiP48Beq",
        "outputId": "3f309380-270a-420c-bd34-b96a573f7aa9"
      },
      "source": [
        "temp = sns.histplot(precisions, bins=10)"
      ],
      "execution_count": 36,
      "outputs": [
        {
          "output_type": "display_data",
          "data": {
            "image/png": "[encoded data removed]",
            "text/plain": [
              "<Figure size 432x288 with 1 Axes>"
            ]
          },
          "metadata": {
            "tags": [],
            "needs_background": "light"
          }
        }
      ]
    },
    {
      "cell_type": "code",
      "metadata": {
        "colab": {
          "base_uri": "https://localhost:8080/"
        },
        "id": "WnfkaWEqDnFx",
        "outputId": "c2a2c7ba-58bc-4367-9f6a-3d56707479d2"
      },
      "source": [
        "recallLessThan09 = [i for i in range(KanjiPerDataset) if recalls[i]<0.9]\n",
        "precisionLessThan09 = [i for i in range(KanjiPerDataset) if precisions[i]<0.9]\n",
        "\n",
        "bothLessThan09 = [i for i in range(KanjiPerDataset) if (recalls[i]<0.9 and precisions[i]<0.9)]\n",
        "\n",
        "print(\"Recall below 0.9: \",[actualKanji[i] for i in recallLessThan09])\n",
        "print(\"Precision below 0.9: \",[actualKanji[i] for i in precisionLessThan09])"
      ],
      "execution_count": 37,
      "outputs": [
        {
          "output_type": "stream",
          "text": [
            "Recall below 0.9:  ['輪']\n",
            "Precision below 0.9:  ['輸']\n"
          ],
          "name": "stdout"
        }
      ]
    },
    {
      "cell_type": "markdown",
      "metadata": {
        "id": "SvCVOonq_xwW"
      },
      "source": [
        "##Using the model"
      ]
    },
    {
      "cell_type": "code",
      "metadata": {
        "id": "i-_naasFC7ZO"
      },
      "source": [
        "import IPython\n",
        "from google.colab import output\n",
        "from IPython.display import HTML, Image, display, clear_output\n",
        "from base64 import b64decode\n",
        "from io import BytesIO\n",
        "from PIL import Image"
      ],
      "execution_count": 13,
      "outputs": []
    },
    {
      "cell_type": "code",
      "metadata": {
        "id": "iqZfJRVtaGPk"
      },
      "source": [
        "def writeImgToFile(binaryData, filename='drawing.png'):\n",
        "  with open(filename, 'wb') as f:\n",
        "    f.write(binaryData)"
      ],
      "execution_count": 14,
      "outputs": []
    },
    {
      "cell_type": "code",
      "metadata": {
        "id": "s91cDEPjRHgG"
      },
      "source": [
        "def predictImage(img):\n",
        "  #read image\n",
        "  #img = Image.open('drawing.png')\n",
        "  arr = np.array(img)\n",
        "  lum_img = arr[:,:,3]\n",
        "  \n",
        "  #resize image\n",
        "  lum_img = skimage.transform.resize(lum_img, (Height, Width), preserve_range=True)\n",
        "\n",
        "  lum_img = lum_img.astype('float32')\n",
        "  lum_img /= 255\n",
        "\n",
        "  #predict\n",
        "  preds = model.predict(lum_img.reshape(1, Height, Width, 1))\n",
        "  #predFirst = np.argmax(preds,1)[0]\n",
        "  \n",
        "  preds = preds.reshape(preds.shape[1])\n",
        "  np.argsort(preds)\n",
        "  firstHits = (-preds).argsort()[:3]\n",
        "  probabilities = preds[firstHits]\n",
        "  return (firstHits, probabilities)"
      ],
      "execution_count": 15,
      "outputs": []
    },
    {
      "cell_type": "code",
      "metadata": {
        "id": "M6dCjpQXErfv"
      },
      "source": [
        "def predict(data):\n",
        "  #Decode image\n",
        "  binary = b64decode(data.split(',')[1])\n",
        "  #writeImgToFile(binary)\n",
        "  image_data = BytesIO(binary)\n",
        "  \n",
        "  img = Image.open(image_data) \n",
        "\n",
        "  #Obtain predictions\n",
        "  (hits, probabilities) = predictImage(img)\n",
        "\n",
        "  #print(hits)\n",
        "  #print(probabilities)\n",
        "  #Drawing predictions\n",
        "\n",
        "  htmlinfoTemplate = '<a href=\"https://jisho.org/search/{0}\">Click for more info</a>'\n",
        "  \n",
        "  predictedKanji=[actualKanji[hits[i]] for i in range(len(hits))]\n",
        "  probabilitiesStrings=[\"{:.0%}\".format(probabilities[i]) for i in range(len(hits))]\n",
        "  moreInfos=[htmlinfoTemplate.format(predictedKanji[i]) for i in range(len(hits))]\n",
        "\n",
        "  output.clear(output_tags=\"predPlace\")\n",
        "  with output.use_tags(\"predPlace\"):\n",
        "    with output.redirect_to_element('#predPlace0'):\n",
        "      display(IPython.display.HTML(predictedKanji[0]))\n",
        "    with output.redirect_to_element('#predProb0'):\n",
        "      display(IPython.display.HTML(probabilitiesStrings[0]))\n",
        "    with output.redirect_to_element('#info0'):\n",
        "      display(IPython.display.HTML(moreInfos[0]))\n",
        "    with output.redirect_to_element('#predPlace1'):\n",
        "      display(IPython.display.HTML(predictedKanji[1]))\n",
        "    with output.redirect_to_element('#predProb1'):\n",
        "      display(IPython.display.HTML(probabilitiesStrings[1]))\n",
        "    with output.redirect_to_element('#info1'):\n",
        "      display(IPython.display.HTML(moreInfos[1]))\n",
        "\n",
        "output.register_callback('notebook.predict', predict)\n"
      ],
      "execution_count": 16,
      "outputs": []
    },
    {
      "cell_type": "code",
      "metadata": {
        "colab": {
          "base_uri": "https://localhost:8080/",
          "height": 378
        },
        "id": "QluCppOOGlqd",
        "outputId": "9f50bf69-41d1-43b7-8028-3657f4a15421"
      },
      "source": [
        "display(IPython.display.HTML(\n",
        "    '''\n",
        "    <canvas width=128, height=128, style=\"border:1px solid #000000;\"></canvas>\n",
        "    <button id='clearButton'>Clear</button>\n",
        "    <br>\n",
        "    <p>Most likely you mean this character: </p>    \n",
        "    <p id='predPlace0' style=\"font-size: 35px;\" ></p>\n",
        "    <span id='predProb0'></span>\n",
        "    <span id='info0'></span> \n",
        "    <p>Second guess: </p>\n",
        "    <p id='predPlace1' style=\"font-size: 35px;\" ></p>\n",
        "    <span id='predProb1'></span>\n",
        "    <span id='info1'></span> \n",
        "    <script>\n",
        "    var canvas = document.querySelector('canvas')    \n",
        "    var ctx = canvas.getContext('2d')\n",
        "    ctx.lineWidth = 3\n",
        "    var clearButton = document.querySelector('#clearButton')\n",
        "    var mouse = {x: 0, y: 0}\n",
        "    canvas.addEventListener('mousemove', function(e) {\n",
        "      mouse.x = e.pageX - this.offsetLeft\n",
        "      mouse.y = e.pageY - this.offsetTop\n",
        "    })\n",
        "    canvas.onmousedown = ()=>{\n",
        "      ctx.beginPath()\n",
        "      ctx.moveTo(mouse.x, mouse.y)\n",
        "      canvas.addEventListener('mousemove', onPaint)\n",
        "    }\n",
        "    canvas.onmouseup = ()=>{\n",
        "      canvas.removeEventListener('mousemove', onPaint)\n",
        "      google.colab.kernel.invokeFunction('notebook.predict', [canvas.toDataURL('image/png')], {});\n",
        "    }\n",
        "    var onPaint = ()=>{\n",
        "      ctx.lineTo(mouse.x, mouse.y)\n",
        "      ctx.stroke()\n",
        "    }    \n",
        "    clearButton.onclick = () => {\n",
        "        ctx.clearRect(0,0,canvas.width,canvas.height)\n",
        "    }\n",
        "\n",
        "</script>\n",
        "'''\n",
        "))"
      ],
      "execution_count": 17,
      "outputs": [
        {
          "output_type": "display_data",
          "data": {
            "text/html": [
              "\n",
              "    <canvas width=128, height=128, style=\"border:1px solid #000000;\"></canvas>\n",
              "    <button id='clearButton'>Clear</button>\n",
              "    <br>\n",
              "    <p>Most likely you mean this character: </p>    \n",
              "    <p id='predPlace0' style=\"font-size: 35px;\" ></p>\n",
              "    <span id='predProb0'></span>\n",
              "    <span id='info0'></span> \n",
              "    <p>Second guess: </p>\n",
              "    <p id='predPlace1' style=\"font-size: 35px;\" ></p>\n",
              "    <span id='predProb1'></span>\n",
              "    <span id='info1'></span> \n",
              "    <script>\n",
              "    var canvas = document.querySelector('canvas')    \n",
              "    var ctx = canvas.getContext('2d')\n",
              "    ctx.lineWidth = 3\n",
              "    var clearButton = document.querySelector('#clearButton')\n",
              "    var mouse = {x: 0, y: 0}\n",
              "    canvas.addEventListener('mousemove', function(e) {\n",
              "      mouse.x = e.pageX - this.offsetLeft\n",
              "      mouse.y = e.pageY - this.offsetTop\n",
              "    })\n",
              "    canvas.onmousedown = ()=>{\n",
              "      ctx.beginPath()\n",
              "      ctx.moveTo(mouse.x, mouse.y)\n",
              "      canvas.addEventListener('mousemove', onPaint)\n",
              "    }\n",
              "    canvas.onmouseup = ()=>{\n",
              "      canvas.removeEventListener('mousemove', onPaint)\n",
              "      google.colab.kernel.invokeFunction('notebook.predict', [canvas.toDataURL('image/png')], {});\n",
              "    }\n",
              "    var onPaint = ()=>{\n",
              "      ctx.lineTo(mouse.x, mouse.y)\n",
              "      ctx.stroke()\n",
              "    }    \n",
              "    clearButton.onclick = () => {\n",
              "        ctx.clearRect(0,0,canvas.width,canvas.height)\n",
              "    }\n",
              "\n",
              "</script>\n"
            ],
            "text/plain": [
              "<IPython.core.display.HTML object>"
            ]
          },
          "metadata": {
            "tags": []
          }
        },
        {
          "output_type": "display_data",
          "data": {
            "application/javascript": [
              "window[\"8cc6b974-b275-11eb-b67e-0242ac1c0002\"] = google.colab.output.getActiveOutputArea();\n",
              "//# sourceURL=js_5a4b4f69da"
            ],
            "text/plain": [
              "<IPython.core.display.Javascript object>"
            ]
          },
          "metadata": {
            "tags": [
              "predPlace"
            ]
          }
        },
        {
          "output_type": "display_data",
          "data": {
            "application/javascript": [
              "window[\"8cc78174-b275-11eb-b67e-0242ac1c0002\"] = document.querySelector(\"#predPlace0\");\n",
              "//# sourceURL=js_a4dd5e86b7"
            ],
            "text/plain": [
              "<IPython.core.display.Javascript object>"
            ]
          },
          "metadata": {
            "tags": [
              "predPlace"
            ]
          }
        },
        {
          "output_type": "display_data",
          "data": {
            "application/javascript": [
              "window[\"8cc81a62-b275-11eb-b67e-0242ac1c0002\"] = google.colab.output.setActiveOutputArea(window[\"8cc78174-b275-11eb-b67e-0242ac1c0002\"]);\n",
              "//# sourceURL=js_c4b9f421c6"
            ],
            "text/plain": [
              "<IPython.core.display.Javascript object>"
            ]
          },
          "metadata": {
            "tags": [
              "predPlace"
            ]
          }
        },
        {
          "output_type": "display_data",
          "data": {
            "text/html": [
              "絵"
            ],
            "text/plain": [
              "<IPython.core.display.HTML object>"
            ]
          },
          "metadata": {
            "tags": [
              "predPlace"
            ]
          }
        },
        {
          "output_type": "display_data",
          "data": {
            "application/javascript": [
              "window[\"8cc94892-b275-11eb-b67e-0242ac1c0002\"] = google.colab.output.setActiveOutputArea(window[\"8cc6b974-b275-11eb-b67e-0242ac1c0002\"]);\n",
              "//# sourceURL=js_491c09a49f"
            ],
            "text/plain": [
              "<IPython.core.display.Javascript object>"
            ]
          },
          "metadata": {
            "tags": [
              "predPlace"
            ]
          }
        },
        {
          "output_type": "display_data",
          "data": {
            "application/javascript": [
              "window[\"8cca1696-b275-11eb-b67e-0242ac1c0002\"] = google.colab.output.getActiveOutputArea();\n",
              "//# sourceURL=js_595140c74a"
            ],
            "text/plain": [
              "<IPython.core.display.Javascript object>"
            ]
          },
          "metadata": {
            "tags": [
              "predPlace"
            ]
          }
        },
        {
          "output_type": "display_data",
          "data": {
            "application/javascript": [
              "window[\"8ccab01a-b275-11eb-b67e-0242ac1c0002\"] = document.querySelector(\"#predProb0\");\n",
              "//# sourceURL=js_879d829149"
            ],
            "text/plain": [
              "<IPython.core.display.Javascript object>"
            ]
          },
          "metadata": {
            "tags": [
              "predPlace"
            ]
          }
        },
        {
          "output_type": "display_data",
          "data": {
            "application/javascript": [
              "window[\"8ccb48d6-b275-11eb-b67e-0242ac1c0002\"] = google.colab.output.setActiveOutputArea(window[\"8ccab01a-b275-11eb-b67e-0242ac1c0002\"]);\n",
              "//# sourceURL=js_d11794d686"
            ],
            "text/plain": [
              "<IPython.core.display.Javascript object>"
            ]
          },
          "metadata": {
            "tags": [
              "predPlace"
            ]
          }
        },
        {
          "output_type": "display_data",
          "data": {
            "text/html": [
              "100%"
            ],
            "text/plain": [
              "<IPython.core.display.HTML object>"
            ]
          },
          "metadata": {
            "tags": [
              "predPlace"
            ]
          }
        },
        {
          "output_type": "display_data",
          "data": {
            "application/javascript": [
              "window[\"8ccc7ad0-b275-11eb-b67e-0242ac1c0002\"] = google.colab.output.setActiveOutputArea(window[\"8cca1696-b275-11eb-b67e-0242ac1c0002\"]);\n",
              "//# sourceURL=js_37eea0ab48"
            ],
            "text/plain": [
              "<IPython.core.display.Javascript object>"
            ]
          },
          "metadata": {
            "tags": [
              "predPlace"
            ]
          }
        },
        {
          "output_type": "display_data",
          "data": {
            "application/javascript": [
              "window[\"8ccd1314-b275-11eb-b67e-0242ac1c0002\"] = google.colab.output.getActiveOutputArea();\n",
              "//# sourceURL=js_910f6a63cb"
            ],
            "text/plain": [
              "<IPython.core.display.Javascript object>"
            ]
          },
          "metadata": {
            "tags": [
              "predPlace"
            ]
          }
        },
        {
          "output_type": "display_data",
          "data": {
            "application/javascript": [
              "window[\"8ccda82e-b275-11eb-b67e-0242ac1c0002\"] = document.querySelector(\"#info0\");\n",
              "//# sourceURL=js_09971c333a"
            ],
            "text/plain": [
              "<IPython.core.display.Javascript object>"
            ]
          },
          "metadata": {
            "tags": [
              "predPlace"
            ]
          }
        },
        {
          "output_type": "display_data",
          "data": {
            "application/javascript": [
              "window[\"8cce3bf4-b275-11eb-b67e-0242ac1c0002\"] = google.colab.output.setActiveOutputArea(window[\"8ccda82e-b275-11eb-b67e-0242ac1c0002\"]);\n",
              "//# sourceURL=js_713d42dc01"
            ],
            "text/plain": [
              "<IPython.core.display.Javascript object>"
            ]
          },
          "metadata": {
            "tags": [
              "predPlace"
            ]
          }
        },
        {
          "output_type": "display_data",
          "data": {
            "text/html": [
              "<a href=\"https://jisho.org/search/絵\">Click for more info</a>"
            ],
            "text/plain": [
              "<IPython.core.display.HTML object>"
            ]
          },
          "metadata": {
            "tags": [
              "predPlace"
            ]
          }
        },
        {
          "output_type": "display_data",
          "data": {
            "application/javascript": [
              "window[\"8ccfbb6e-b275-11eb-b67e-0242ac1c0002\"] = google.colab.output.setActiveOutputArea(window[\"8ccd1314-b275-11eb-b67e-0242ac1c0002\"]);\n",
              "//# sourceURL=js_e503c19abb"
            ],
            "text/plain": [
              "<IPython.core.display.Javascript object>"
            ]
          },
          "metadata": {
            "tags": [
              "predPlace"
            ]
          }
        },
        {
          "output_type": "display_data",
          "data": {
            "application/javascript": [
              "window[\"8cd03efe-b275-11eb-b67e-0242ac1c0002\"] = google.colab.output.getActiveOutputArea();\n",
              "//# sourceURL=js_48b1386452"
            ],
            "text/plain": [
              "<IPython.core.display.Javascript object>"
            ]
          },
          "metadata": {
            "tags": [
              "predPlace"
            ]
          }
        },
        {
          "output_type": "display_data",
          "data": {
            "application/javascript": [
              "window[\"8cd0c928-b275-11eb-b67e-0242ac1c0002\"] = document.querySelector(\"#predPlace1\");\n",
              "//# sourceURL=js_dc25a918a2"
            ],
            "text/plain": [
              "<IPython.core.display.Javascript object>"
            ]
          },
          "metadata": {
            "tags": [
              "predPlace"
            ]
          }
        },
        {
          "output_type": "display_data",
          "data": {
            "application/javascript": [
              "window[\"8cd13b38-b275-11eb-b67e-0242ac1c0002\"] = google.colab.output.setActiveOutputArea(window[\"8cd0c928-b275-11eb-b67e-0242ac1c0002\"]);\n",
              "//# sourceURL=js_c557e109ac"
            ],
            "text/plain": [
              "<IPython.core.display.Javascript object>"
            ]
          },
          "metadata": {
            "tags": [
              "predPlace"
            ]
          }
        },
        {
          "output_type": "display_data",
          "data": {
            "text/html": [
              "総"
            ],
            "text/plain": [
              "<IPython.core.display.HTML object>"
            ]
          },
          "metadata": {
            "tags": [
              "predPlace"
            ]
          }
        },
        {
          "output_type": "display_data",
          "data": {
            "application/javascript": [
              "window[\"8cd256b2-b275-11eb-b67e-0242ac1c0002\"] = google.colab.output.setActiveOutputArea(window[\"8cd03efe-b275-11eb-b67e-0242ac1c0002\"]);\n",
              "//# sourceURL=js_5e569aab6c"
            ],
            "text/plain": [
              "<IPython.core.display.Javascript object>"
            ]
          },
          "metadata": {
            "tags": [
              "predPlace"
            ]
          }
        },
        {
          "output_type": "display_data",
          "data": {
            "application/javascript": [
              "window[\"8cd2e668-b275-11eb-b67e-0242ac1c0002\"] = google.colab.output.getActiveOutputArea();\n",
              "//# sourceURL=js_6760d1e2f8"
            ],
            "text/plain": [
              "<IPython.core.display.Javascript object>"
            ]
          },
          "metadata": {
            "tags": [
              "predPlace"
            ]
          }
        },
        {
          "output_type": "display_data",
          "data": {
            "application/javascript": [
              "window[\"8cd35d0a-b275-11eb-b67e-0242ac1c0002\"] = document.querySelector(\"#predProb1\");\n",
              "//# sourceURL=js_467215a1f9"
            ],
            "text/plain": [
              "<IPython.core.display.Javascript object>"
            ]
          },
          "metadata": {
            "tags": [
              "predPlace"
            ]
          }
        },
        {
          "output_type": "display_data",
          "data": {
            "application/javascript": [
              "window[\"8cd3eb6c-b275-11eb-b67e-0242ac1c0002\"] = google.colab.output.setActiveOutputArea(window[\"8cd35d0a-b275-11eb-b67e-0242ac1c0002\"]);\n",
              "//# sourceURL=js_1ffee535ca"
            ],
            "text/plain": [
              "<IPython.core.display.Javascript object>"
            ]
          },
          "metadata": {
            "tags": [
              "predPlace"
            ]
          }
        },
        {
          "output_type": "display_data",
          "data": {
            "text/html": [
              "0%"
            ],
            "text/plain": [
              "<IPython.core.display.HTML object>"
            ]
          },
          "metadata": {
            "tags": [
              "predPlace"
            ]
          }
        },
        {
          "output_type": "display_data",
          "data": {
            "application/javascript": [
              "window[\"8cd4e74c-b275-11eb-b67e-0242ac1c0002\"] = google.colab.output.setActiveOutputArea(window[\"8cd2e668-b275-11eb-b67e-0242ac1c0002\"]);\n",
              "//# sourceURL=js_020356b626"
            ],
            "text/plain": [
              "<IPython.core.display.Javascript object>"
            ]
          },
          "metadata": {
            "tags": [
              "predPlace"
            ]
          }
        },
        {
          "output_type": "display_data",
          "data": {
            "application/javascript": [
              "window[\"8cd5665e-b275-11eb-b67e-0242ac1c0002\"] = google.colab.output.getActiveOutputArea();\n",
              "//# sourceURL=js_d175de51b4"
            ],
            "text/plain": [
              "<IPython.core.display.Javascript object>"
            ]
          },
          "metadata": {
            "tags": [
              "predPlace"
            ]
          }
        },
        {
          "output_type": "display_data",
          "data": {
            "application/javascript": [
              "window[\"8cd5e656-b275-11eb-b67e-0242ac1c0002\"] = document.querySelector(\"#info1\");\n",
              "//# sourceURL=js_35fe9acd30"
            ],
            "text/plain": [
              "<IPython.core.display.Javascript object>"
            ]
          },
          "metadata": {
            "tags": [
              "predPlace"
            ]
          }
        },
        {
          "output_type": "display_data",
          "data": {
            "application/javascript": [
              "window[\"8cd6805c-b275-11eb-b67e-0242ac1c0002\"] = google.colab.output.setActiveOutputArea(window[\"8cd5e656-b275-11eb-b67e-0242ac1c0002\"]);\n",
              "//# sourceURL=js_a974c8dfa1"
            ],
            "text/plain": [
              "<IPython.core.display.Javascript object>"
            ]
          },
          "metadata": {
            "tags": [
              "predPlace"
            ]
          }
        },
        {
          "output_type": "display_data",
          "data": {
            "text/html": [
              "<a href=\"https://jisho.org/search/総\">Click for more info</a>"
            ],
            "text/plain": [
              "<IPython.core.display.HTML object>"
            ]
          },
          "metadata": {
            "tags": [
              "predPlace"
            ]
          }
        },
        {
          "output_type": "display_data",
          "data": {
            "application/javascript": [
              "window[\"8cd77bec-b275-11eb-b67e-0242ac1c0002\"] = google.colab.output.setActiveOutputArea(window[\"8cd5665e-b275-11eb-b67e-0242ac1c0002\"]);\n",
              "//# sourceURL=js_fb8bdcff25"
            ],
            "text/plain": [
              "<IPython.core.display.Javascript object>"
            ]
          },
          "metadata": {
            "tags": [
              "predPlace"
            ]
          }
        }
      ]
    }
  ]
}